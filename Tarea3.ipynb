{
 "cells": [
  {
   "cell_type": "code",
   "execution_count": 6,
   "metadata": {},
   "outputs": [],
   "source": [
    "import numpy as np\n",
    "from matplotlib import pyplot as plt\n",
    "from scipy.optimize import fsolve"
   ]
  },
  {
   "cell_type": "code",
   "execution_count": 7,
   "metadata": {},
   "outputs": [],
   "source": [
    "plt.style.use('seaborn-poster')"
   ]
  },
  {
   "cell_type": "markdown",
   "metadata": {},
   "source": [
    "## Pregunta 1 ##\n",
    "\n",
    "Encontrar una raiz entre 4 y 5 para la función $cosh(x)cos(x)-1$ usando el método de Ridder. Primero definimos la función $f(x)=cosh(x)cos(x)-1$"
   ]
  },
  {
   "cell_type": "code",
   "execution_count": 4,
   "metadata": {},
   "outputs": [],
   "source": [
    "def f(x):\n",
    "    return np.cosh(x)*np.cos(x)-1"
   ]
  },
  {
   "cell_type": "code",
   "execution_count": 89,
   "metadata": {},
   "outputs": [],
   "source": [
    "def Ridder(x1,x2,f,maxiter=100,epsilon=1.0e-9,vector=[]):\n",
    "    xold=0.0\n",
    "    for i in range(maxiter):\n",
    "        x3=(x1+x2)/2\n",
    "        f1=f(x1)\n",
    "        f2=f(x2)\n",
    "        f3=f(x3)\n",
    "        aux=np.power(f(x3),2)\n",
    "        raiz=np.sqrt(aux-f1*f2)\n",
    "        if (raiz==0): return 0.0\n",
    "        dx=(x3-x1)*f3/raiz\n",
    "        if (f1-f2<0):\n",
    "            dx=-dx\n",
    "        x=x3+dx\n",
    "        fx=f(x)\n",
    "        vector.append(x)\n",
    "        #Depende del valor de x4 para ver si va por un intervalo u otro\n",
    "        # Si f3 y f4 tienen distinto signo entonces, estos son los nuevos limites a buscar la raiz\n",
    "        if (i>0):\n",
    "            if abs(x-xold)<epsilon*max(abs(x),1.0):\n",
    "                return (x)\n",
    "            xold=x\n",
    "        if(f3*fx<0):\n",
    "            x1=x3\n",
    "            x2=x\n",
    "        else:\n",
    "            # Si f1 y f4 son distintos signo, entonces f1 se mantiene igual y f4 es el nuevo x2\n",
    "            if(f1*fx<0):\n",
    "                x2=x\n",
    "            # Si f2 y f4 tienen distinto signo entonces x4 es el nuevo x1, y f2 se  mantiene\n",
    "            elif(f2*fx<0):\n",
    "                x1=x\n",
    "    print (\"Demasiadas iteraciones\")\n",
    "    return xold"
   ]
  },
  {
   "cell_type": "markdown",
   "metadata": {},
   "source": [
    "Ahora compararamos el menor valor con un valor mayor de iteraciones, y comparamos estos valores."
   ]
  },
  {
   "cell_type": "code",
   "execution_count": 95,
   "metadata": {},
   "outputs": [
    {
     "name": "stdout",
     "output_type": "stream",
     "text": [
      "0.0\n",
      "4.7300407448627055 4.7300407448627055\n"
     ]
    }
   ],
   "source": [
    "raiz=Ridder(4,5,f,maxiter=5)\n",
    "raiz2=Ridder(4,5,f,maxiter=500)\n",
    "print(raiz-raiz2)\n",
    "print(raiz,raiz2)"
   ]
  },
  {
   "cell_type": "markdown",
   "metadata": {},
   "source": [
    "Como se puede ver la diferencia entre los dos valores si hay 5 iteraciones (el minimo posible) comparado con 500 iteraciones, no hay diferencia alguna entre los dos valores."
   ]
  },
  {
   "cell_type": "markdown",
   "metadata": {},
   "source": [
    "Si lo hacemos con el método de Ridder implementado en la maquina, y comparando ahora de 6 (el minimo de este metodo) a 500 iteraciones, obtenemos que:"
   ]
  },
  {
   "cell_type": "code",
   "execution_count": 8,
   "metadata": {},
   "outputs": [],
   "source": [
    "from scipy import optimize"
   ]
  },
  {
   "cell_type": "code",
   "execution_count": 90,
   "metadata": {},
   "outputs": [
    {
     "name": "stdout",
     "output_type": "stream",
     "text": [
      "4.730040744861702 4.730040744861702\n",
      "0.0\n"
     ]
    }
   ],
   "source": [
    "root = optimize.ridder(f, 4, 5,maxiter=6)\n",
    "root2= optimize.ridder(f, 4, 5,maxiter=500)\n",
    "print(root,root2)\n",
    "print(root-root2)"
   ]
  },
  {
   "cell_type": "markdown",
   "metadata": {},
   "source": [
    "#### Ahora graficando la raiz obtenida por el método de Ridder a traves de diversas iteraciones. ####"
   ]
  },
  {
   "cell_type": "code",
   "execution_count": 103,
   "metadata": {},
   "outputs": [
    {
     "data": {
      "text/plain": [
       "Text(0.5, 1.0, 'Valor de la Raiz entre 4 y 5 de acuerdo a la cantidad de iteraciones')"
      ]
     },
     "execution_count": 103,
     "metadata": {},
     "output_type": "execute_result"
    },
    {
     "data": {
      "image/png": "[encoded data removed]",
      "text/plain": [
       "<Figure size 921.6x633.6 with 1 Axes>"
      ]
     },
     "metadata": {
      "needs_background": "light"
     },
     "output_type": "display_data"
    }
   ],
   "source": [
    "iteracion3=[]\n",
    "vector2=np.linspace(1,10,10)\n",
    "Ridder(4,5,f,vector=iteracion3)\n",
    "for i in range(5,10):\n",
    "    iteracion3.append(Ridder(4,5,f,maxiter=i))\n",
    "    \n",
    "\n",
    "plt.plot(vector2,iteracion3)\n",
    "plt.xlabel(\"Numero de Iteraciones\")\n",
    "plt.ylabel(\"Valor de la Raiz\")\n",
    "plt.title(\"Valor de la Raiz entre 4 y 5 de acuerdo a la cantidad de iteraciones\")"
   ]
  },
  {
   "cell_type": "markdown",
   "metadata": {},
   "source": [
    "Se puede ver que el método de Ridder converge muy rápido con solo 5 iteraciones, y que su valor cambia drasticamente entre estas primeras iteraciones hasta converger a un valor estable, de hecho el valor ya converge con 2 iteraciones. Por lo que se puede decir que es un método muy rápido y estable."
   ]
  },
  {
   "cell_type": "markdown",
   "metadata": {},
   "source": [
    "## Pregunta 2 ##\n",
    "\n",
    "#### Ecuacion de x ####"
   ]
  },
  {
   "cell_type": "markdown",
   "metadata": {},
   "source": [
    "Tenemos los siguientes valores: si tomamos la posicion donde se parte como $(0,0)$ con $x_0=0$ e $y_0=0$.\n",
    "Dividimos las posiciones en dos cordinadas en $x$ e $y$. Para la posicion en $x$ se define de la siguiente forma:\n",
    "               $$x=x_0+v_xt$$"
   ]
  },
  {
   "cell_type": "markdown",
   "metadata": {},
   "source": [
    "Definimos $v_x=vcos(\\theta)$ e $v_y=vsen(\\theta)$. Entonces si reemplazamos $v_x$ y $x_0$ en la ecuacion anterior, se tiene que:\n",
    "                $$x=vcos(\\theta)t$$"
   ]
  },
  {
   "cell_type": "markdown",
   "metadata": {},
   "source": [
    "Si despejamos $t$, obtenemos que:\n",
    "                $$t=\\frac{x}{vcos(\\theta)}$$"
   ]
  },
  {
   "cell_type": "markdown",
   "metadata": {},
   "source": [
    "#### Ecuacion de y ####"
   ]
  },
  {
   "cell_type": "markdown",
   "metadata": {},
   "source": [
    "Usando la ecuacion de movimiento uniforme vertical, tenemos lo siguiente:\n",
    "            $$y=y_o+v_yt-\\frac{1}{2}gt^{2}$$"
   ]
  },
  {
   "cell_type": "markdown",
   "metadata": {},
   "source": [
    "Reemplazando $y_0=0$ y $v_y=vsen(\\theta)$, tenemos la siguiente ecuación:\n",
    "                $$y=vsen(\\theta)t-\\frac{1}{2}gt^{2}$$"
   ]
  },
  {
   "cell_type": "markdown",
   "metadata": {},
   "source": [
    "Reemplazamos el $t$ que obtuvimos antes en la ecuacion de $x$.\n",
    "            $$y=vsen(\\theta)(\\frac{x}{vcos(\\theta)})-\\frac{1}{2}g(\\frac{x}{vcos(\\theta)})^{2}$$"
   ]
  },
  {
   "cell_type": "markdown",
   "metadata": {},
   "source": [
    "Factorizamos con el x y ordenamos:\n",
    "            $$y=x(tan(\\theta)-\\frac{xg}{2v^{2}cos(\\theta)^{2}})\\label{eq1}\\tag{1}$$"
   ]
  },
  {
   "cell_type": "markdown",
   "metadata": {},
   "source": [
    "Nuevamente si tomamos que $y$ es la posicion final, entonces reemplazamos con $y=61$ y con $x=300$ en la ecuación, y se tiene que:\n",
    "                $$61=300(tan(\\theta)-\\frac{300g}{2v^2cos(\\theta)^2})$$\n",
    "                \n",
    "Que corresponde a la primera ecuación."
   ]
  },
  {
   "cell_type": "markdown",
   "metadata": {},
   "source": [
    "#### Ecuacion de velocidad ####"
   ]
  },
  {
   "cell_type": "markdown",
   "metadata": {},
   "source": [
    "Para obtener la velocidad lo podemos interpretar como la variacion de $y$ respecto a $x$, esto se puede interpretar como que $v$ es la tangente de un ángulo $\\alpha$, que correspondería a la variación del ángulo sobre el trayecto. Este $\\alpha$ corresponderia inicialmente a $\\theta$.\n",
    "                $$v_{total}=\\frac{v_y}{v_x}=tan(\\alpha)$$"
   ]
  },
  {
   "cell_type": "markdown",
   "metadata": {},
   "source": [
    "Tenemos que $v_x=vcos(\\theta)$ y $v_y=vsen(\\theta)-gt$, reemplazamos y obtenemos que:\n",
    "            $$tan(\\alpha)=\\frac{vsen(\\theta)-gt}{vcos(\\theta)}=tan(\\theta)-\\frac{gt}{vcos(\\theta)}$$"
   ]
  },
  {
   "cell_type": "markdown",
   "metadata": {},
   "source": [
    "Si reemplazamos $t$ con el valor que se encontró antes se obtiene que:\n",
    "            $$tan(\\alpha)=tan(\\theta)-\\frac{g(\\frac{x}{vcos(\\theta)})}{v\\cos(\\theta)}$$"
   ]
  },
  {
   "cell_type": "markdown",
   "metadata": {},
   "source": [
    "Reemplazamos $x=300$ y consideramos $\\alpha$ el ángulo final que se obtiene:\n",
    "                $$tan(\\alpha_{final})=\\tan(\\theta)-\\frac{300g}{v^2cos^2(\\theta)}$$"
   ]
  },
  {
   "cell_type": "markdown",
   "metadata": {},
   "source": [
    "Se concluye que este ángulo $\\alpha_{final}$ es el suplemento del ángulo $45°$ que vimos en la posicion A\n",
    "            $$tan(\\alpha_{final})=tan(180-45)$$"
   ]
  },
  {
   "cell_type": "markdown",
   "metadata": {},
   "source": [
    "Reemplazando todo se tiene que:\n",
    "                    $$-1=tan(\\theta)-\\frac{300g}{v^2cos^2(\\theta)}\\label{eq2}\\tag{2}$$\n",
    "Obteniendo la segunda ecuación."
   ]
  },
  {
   "cell_type": "code",
   "execution_count": 10,
   "metadata": {},
   "outputs": [],
   "source": [
    "from numpy.linalg import *"
   ]
  },
  {
   "cell_type": "code",
   "execution_count": 31,
   "metadata": {},
   "outputs": [],
   "source": [
    "def jacobiano(f,x):\n",
    "    h=1.0e-9\n",
    "    jac=np.zeros((2,2))\n",
    "    f0=f(x)    \n",
    "    for i in range(2):\n",
    "        temp=x[i]\n",
    "        x[i]=temp+h\n",
    "        f1=f(x)\n",
    "        x[i]=temp\n",
    "        jac[:,i]=(f1-f0)/h\n",
    "    return f0,jac"
   ]
  },
  {
   "cell_type": "code",
   "execution_count": 38,
   "metadata": {},
   "outputs": [],
   "source": [
    "def newtonRaphson(f,x,epsilon=1.0e-9,maxiter=30):\n",
    "    for i in range(maxiter):\n",
    "        f0,jac=jacobiano(f,x)\n",
    "        if (np.sqrt(np.dot(f0,f0))/len(x))< epsilon:\n",
    "            return x\n",
    "        dx=linalg.solve(jac,-f0)\n",
    "        x=x+dx\n",
    "        if np.sqrt(np.dot(dx,dx)) < epsilon*max(max(abs(x)),1.0):\n",
    "            return x\n",
    "    print(\"Demasiadas Iteraciones\")"
   ]
  },
  {
   "cell_type": "code",
   "execution_count": 27,
   "metadata": {},
   "outputs": [],
   "source": [
    "def f(x):\n",
    "    f = np.zeros(len(x))\n",
    "    g=9.80665\n",
    "    f[0] = 300*np.tan(x[0]) - (np.power(300,2))*g/(2*np.power(x[1]*np.cos(x[0]),2)) -61\n",
    "    f[1] = np.tan(x[0]) - 300*g/(np.power(x[1]*np.cos(x[0]),2)) + 1\n",
    "    return (f)"
   ]
  },
  {
   "cell_type": "code",
   "execution_count": 44,
   "metadata": {},
   "outputs": [
    {
     "name": "stdout",
     "output_type": "stream",
     "text": [
      "[1. 1.] [ 0.95279201 60.34304012]\n",
      "Theta = 0.9527920099178271\n",
      "v = 60.343040121739136\n",
      "[ 0.95279201 60.34304012] [-1.80023108e-10 -9.58566559e-13]\n"
     ]
    }
   ],
   "source": [
    "x = np.array([1.0,1.0])\n",
    "x0 = newtonRaphson(f,x)\n",
    "print(x,x0)\n",
    "print(\"Theta =\",x0[0])\n",
    "print(\"v =\",x0[1])\n",
    "\n",
    "print(x0,f(x0))"
   ]
  }
 ],
 "metadata": {
  "kernelspec": {
   "display_name": "Python 3",
   "language": "python",
   "name": "python3"
  },
  "language_info": {
   "codemirror_mode": {
    "name": "ipython",
    "version": 3
   },
   "file_extension": ".py",
   "mimetype": "text/x-python",
   "name": "python",
   "nbconvert_exporter": "python",
   "pygments_lexer": "ipython3",
   "version": "3.7.1"
  }
 },
 "nbformat": 4,
 "nbformat_minor": 2
}
