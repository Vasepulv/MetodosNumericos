{
 "cells": [
  {
   "cell_type": "markdown",
   "metadata": {},
   "source": [
    "# Clase 10 - Sistemas de ecuaciones lineales III"
   ]
  },
  {
   "cell_type": "code",
   "execution_count": 1,
   "metadata": {},
   "outputs": [],
   "source": [
    "import numpy as np\n",
    "from matplotlib import pyplot as plt\n",
    "from scipy import linalg\n",
    "from scipy.sparse import diags"
   ]
  },
  {
   "cell_type": "code",
   "execution_count": 2,
   "metadata": {},
   "outputs": [],
   "source": [
    "plt.style.use('seaborn-poster')\n",
    "\n",
    "#formato de impresión de los números en los arreglos de Numpy\n",
    "#np.set_printoptions(formatter={'float': '{: .4f}'.format})"
   ]
  },
  {
   "cell_type": "markdown",
   "metadata": {},
   "source": [
    "### Método de Gauss-Seidel"
   ]
  },
  {
   "cell_type": "markdown",
   "metadata": {},
   "source": [
    "El método de Gauss-Seidel con relajación está dado por\n",
    "\n",
    "\\begin{equation*}\n",
    "x_{i} \\leftarrow \\frac{\\omega}{A_{i i}}\\left(b_{i}-\\sum_{j=1 \\atop j \\neq i}^{n} A_{i j} x_{j}\\right)+(1-\\omega) x_{i}, \\quad i=1,2, \\ldots, n\n",
    "\\end{equation*}\n",
    "\n",
    "Esta ecuación es usada para calcular cada elemento de $\\vec{x}$ usando siempre el último valor disponible de $x_i$.\n",
    "\n",
    "Para calcular el factor de relajación, usamos la solución con $\\omega=0$ para las primeras $k\\ge 5$ iteraciones para calcular el valor óptimo\n",
    "\n",
    "\\begin{equation*}\n",
    "\\omega_{\\mathrm{opt}} \\approx \\frac{2}{1+\\sqrt{1-\\left(\\Delta x^{(k+p)} / \\Delta x^{(k)}\\right)^{1 / p}}}\n",
    "\\end{equation*}\n",
    "\n",
    "donde $p$ es un entero positivo."
   ]
  },
  {
   "cell_type": "code",
   "execution_count": 3,
   "metadata": {},
   "outputs": [],
   "source": [
    "def Ecuaciones(x,A,b,omega):\n",
    "    n = len(x)\n",
    "    \n",
    "    for i in range(0,n):\n",
    "        suma = 0.0\n",
    "        for j in range(0,n):\n",
    "            if j != i:\n",
    "                suma = suma + A[i][j]*x[j]\n",
    "        x[i] = (1.0 - omega)*x[i] + omega*(b[i] - suma)/A[i][i]\n",
    "    \n",
    "    return (x)"
   ]
  },
  {
   "cell_type": "code",
   "execution_count": 4,
   "metadata": {},
   "outputs": [],
   "source": [
    "def GaussSeidel(Ecuaciones,x,A,b,tol=1.0e-9):\n",
    "    omega = 1.0\n",
    "    k = 10\n",
    "    p = 1\n",
    "    xold = np.zeros(len(x))\n",
    "    \n",
    "    diag = False\n",
    "    D = np.diag(np.abs(A))\n",
    "    S = np.sum(np.abs(A), axis=1) - D\n",
    "    if np.all(D > S):\n",
    "        diag = True\n",
    "        print ('La matriz A es diagonalmente dominada')\n",
    "    \n",
    "    for i in range(1,1001):\n",
    "        xold = x.copy()\n",
    "        x = Ecuaciones(x,A,b,omega)\n",
    "        dx = np.sqrt(np.dot(x-xold,x-xold))\n",
    "        if dx < tol:\n",
    "            return (x,i,omega)\n",
    "        if i == k: \n",
    "            dx1 = dx\n",
    "        if i == k + p:\n",
    "            dx2 = dx\n",
    "            omega = 2.0/(1.0 + np.sqrt(1.0 - (dx2/dx1)**(1.0/p)))\n",
    "    \n",
    "    print ('Método de Gauss-Seidel no converge')"
   ]
  },
  {
   "cell_type": "markdown",
   "metadata": {},
   "source": [
    "Resolvamos el sistema de ecuaciones \n",
    "\n",
    "\\begin{equation*}\n",
    "\\left[\\begin{array}{rrr}4 & -1 & 1 \\\\ -1 & 4 & -2 \\\\ 1 & -2 & 4\\end{array}\\right]\\left[\\begin{array}{l}x_{1} \\\\ x_{2} \\\\ x_{3}\\end{array}\\right]=\\left[\\begin{array}{r}12 \\\\ -1 \\\\ 5\\end{array}\\right]\n",
    "\\end{equation*}\n"
   ]
  },
  {
   "cell_type": "code",
   "execution_count": 5,
   "metadata": {},
   "outputs": [],
   "source": [
    "A = np.array([[4,-1,1],[-1,4,-2],[1,-2,4]],float)\n",
    "b = np.array([12,-1,5],float)\n",
    "\n",
    "# valor inicial de x\n",
    "x = np.array([1,1,1],float)"
   ]
  },
  {
   "cell_type": "code",
   "execution_count": 6,
   "metadata": {},
   "outputs": [
    {
     "name": "stdout",
     "output_type": "stream",
     "text": [
      "La matriz A es diagonalmente dominada\n",
      "La solución es = [3. 1. 1.]\n",
      "Número de iteraciones = 2\n",
      "Factor de relajación = 1.0\n"
     ]
    }
   ],
   "source": [
    "x,i,omega = GaussSeidel(Ecuaciones,x,A,b)\n",
    "print ('La solución es =',x)\n",
    "print ('Número de iteraciones =',i)\n",
    "print ('Factor de relajación =',omega)"
   ]
  },
  {
   "cell_type": "code",
   "execution_count": 7,
   "metadata": {
    "scrolled": true
   },
   "outputs": [
    {
     "name": "stdout",
     "output_type": "stream",
     "text": [
      "[0. 0. 0.]\n"
     ]
    }
   ],
   "source": [
    "print (np.dot(A,x)-b)"
   ]
  },
  {
   "cell_type": "markdown",
   "metadata": {},
   "source": [
    "Ahora resolvamos el siguiente sistema de ecuaciones \n",
    "\n",
    "\\begin{equation*}\n",
    "\\left[\\begin{array}{rrrrrrrrr}2 & -1 & 0 & 0 & \\ldots & 0 & 0 & 0 & 1 \\\\ -1 & 2 & -1 & 0 & \\ldots & 0 & 0 & 0 & 0 \\\\ 0 & -1 & 2 & -1 & \\ldots & 0 & 0 & 0 & 0 \\\\ \\vdots & \\vdots & \\vdots & \\vdots & & \\vdots & \\vdots & \\vdots & \\vdots \\\\ 0 & 0 & 0 & 0 & \\ldots & -1 & 2 & -1 & 0 \\\\ 0 & 0 & 0 & 0 & \\ldots & 0 & -1 & 2 & -1 \\\\ 1 & 0 & 0 & 0 & \\ldots & 0 & 0 & -1 & 2\\end{array}\\right]\\left[\\begin{array}{c}x_{1} \\\\ x_{2} \\\\ x_{3} \\\\ \\vdots \\\\ x_{n-2} \\\\ x_{n-1} \\\\ x_{n}\\end{array}\\right]=\\left[\\begin{array}{c}0 \\\\ 0 \\\\ 0 \\\\ \\vdots \\\\ 0 \\\\ 0 \\\\ 1\\end{array}\\right]\n",
    "\\end{equation*}\n",
    "\n",
    "cuya solución está dada por $x_i=-n/4+i/2$ con $i=1,2,\\ldots,n$."
   ]
  },
  {
   "cell_type": "code",
   "execution_count": 8,
   "metadata": {},
   "outputs": [],
   "source": [
    "n = 20\n",
    "A = diags([-1, 2, -1], [-1, 0, 1], shape=(n, n),dtype=float).toarray()\n",
    "A[0][n-1] = 1\n",
    "A[n-1][0] = 1\n",
    "b = np.zeros(n)\n",
    "b[n-1] = 1"
   ]
  },
  {
   "cell_type": "code",
   "execution_count": 9,
   "metadata": {},
   "outputs": [
    {
     "name": "stdout",
     "output_type": "stream",
     "text": [
      "La solución es = [-4.50000000e+00 -4.00000000e+00 -3.50000000e+00 -3.00000000e+00\n",
      " -2.50000000e+00 -2.00000000e+00 -1.50000000e+00 -9.99999997e-01\n",
      " -4.99999998e-01  2.14046747e-09  5.00000002e-01  1.00000000e+00\n",
      "  1.50000000e+00  2.00000000e+00  2.50000000e+00  3.00000000e+00\n",
      "  3.50000000e+00  4.00000000e+00  4.50000000e+00  5.00000000e+00]\n",
      "Número de iteraciones = 259\n",
      "Factor de relajación = 1.7054523107131407\n"
     ]
    }
   ],
   "source": [
    "x = np.zeros(n)\n",
    "x,i,omega = GaussSeidel(Ecuaciones,x,A,b)\n",
    "print ('La solución es =',x)\n",
    "print ('Número de iteraciones =',i)\n",
    "print ('Factor de relajación =',omega)"
   ]
  },
  {
   "cell_type": "code",
   "execution_count": 10,
   "metadata": {},
   "outputs": [
    {
     "name": "stdout",
     "output_type": "stream",
     "text": [
      "[ 3.16644488e-11  5.89737148e-11  6.43085585e-11  6.79483136e-11\n",
      "  6.98121561e-11  6.98685554e-11  6.81299461e-11  6.46572795e-11\n",
      "  5.95542504e-11  5.29650768e-11  4.50693877e-11  3.60844687e-11\n",
      "  2.62498911e-11  1.58193458e-11  5.07593967e-12 -5.71098724e-12\n",
      " -1.62603264e-11 -2.63034039e-11 -3.55879770e-11 -1.68762782e-11]\n"
     ]
    }
   ],
   "source": [
    "print (np.dot(A,x)-b)"
   ]
  },
  {
   "cell_type": "markdown",
   "metadata": {},
   "source": [
    "Ahora resolvamos el sistema\n",
    "\n",
    "\\begin{equation*}\n",
    "\\left[\\begin{array}{rrrrrrrrr}4 & -1 & 0 & 0 & \\cdots & 0 & 0 & 0 & 1 \\\\ -1 & 4 & -1 & 0 & \\cdots & 0 & 0 & 0 & 0 \\\\ 0 & -1 & 4 & -1 & \\cdots & 0 & 0 & 0 & 0 \\\\ \\vdots & \\vdots & \\vdots & \\vdots & \\cdots & \\vdots & \\vdots & \\vdots & \\vdots \\\\ 0 & 0 & 0 & 0 & \\cdots & -1 & 4 & -1 & 0 \\\\ 0 & 0 & 0 & 0 & \\cdots & 0 & -1 & 4 & -1 \\\\ 1 & 0 & 0 & 0 & \\cdots & 0 & 0 & -1 & 4\\end{array}\\right]\\left[\\begin{array}{c}x_{1} \\\\ x_{2} \\\\ x_{3} \\\\ \\vdots \\\\ x_{n-2} \\\\ x_{n-1} \\\\ x_{n}\\end{array}\\right]=\\left[\\begin{array}{c}0 \\\\ 0 \\\\ 0 \\\\ \\vdots \\\\ 0 \\\\ 0 \\\\ 100\\end{array}\\right]\n",
    "\\end{equation*}"
   ]
  },
  {
   "cell_type": "code",
   "execution_count": 11,
   "metadata": {},
   "outputs": [],
   "source": [
    "n = 20\n",
    "A = diags([-1, 4, -1], [-1, 0, 1], shape=(n, n),dtype=float).toarray()\n",
    "A[0][n-1] = 1\n",
    "A[n-1][0] = 1\n",
    "b = np.zeros(n)\n",
    "b[n-1] = 100"
   ]
  },
  {
   "cell_type": "code",
   "execution_count": 12,
   "metadata": {},
   "outputs": [
    {
     "name": "stdout",
     "output_type": "stream",
     "text": [
      "La matriz A es diagonalmente dominada\n",
      "La solución es = [-7.73502692e+00 -2.07259421e+00 -5.55349941e-01 -1.48805549e-01\n",
      " -3.98722562e-02 -1.06834753e-02 -2.86164518e-03 -7.63105381e-04\n",
      " -1.90776345e-04  8.65000649e-14  1.90776346e-04  7.63105381e-04\n",
      "  2.86164518e-03  1.06834753e-02  3.98722562e-02  1.48805549e-01\n",
      "  5.55349941e-01  2.07259421e+00  7.73502692e+00  2.88675135e+01]\n",
      "Número de iteraciones = 21\n",
      "Factor de relajación = 1.0976797558334\n"
     ]
    }
   ],
   "source": [
    "x = np.zeros(n)\n",
    "x,i,omega = GaussSeidel(Ecuaciones,x,A,b)\n",
    "print ('La solución es =',x)\n",
    "print ('Número de iteraciones =',i)\n",
    "print ('Factor de relajación =',omega)"
   ]
  },
  {
   "cell_type": "code",
   "execution_count": 13,
   "metadata": {},
   "outputs": [
    {
     "name": "stdout",
     "output_type": "stream",
     "text": [
      "[-1.48084212e-10 -7.79927234e-11 -3.97273325e-11 -1.47250614e-11\n",
      " -3.10559911e-12  6.21991608e-13  1.09880507e-12  7.23615124e-13\n",
      "  3.48203020e-13 -3.39806688e-13  1.97763894e-12 -5.66361628e-13\n",
      " -1.67102226e-13 -1.55639390e-14  5.28743715e-15  3.33066907e-15\n",
      "  1.11022302e-15  1.58442148e-11  2.93631786e-11 -1.24629196e-11]\n"
     ]
    }
   ],
   "source": [
    "print (np.dot(A,x)-b)"
   ]
  },
  {
   "cell_type": "code",
   "execution_count": null,
   "metadata": {},
   "outputs": [],
   "source": []
  }
 ],
 "metadata": {
  "kernelspec": {
   "display_name": "Python 3",
   "language": "python",
   "name": "python3"
  },
  "language_info": {
   "codemirror_mode": {
    "name": "ipython",
    "version": 3
   },
   "file_extension": ".py",
   "mimetype": "text/x-python",
   "name": "python",
   "nbconvert_exporter": "python",
   "pygments_lexer": "ipython3",
   "version": "3.7.1"
  }
 },
 "nbformat": 4,
 "nbformat_minor": 2
}
