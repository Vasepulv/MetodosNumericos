{
 "cells": [
  {
   "cell_type": "markdown",
   "metadata": {},
   "source": [
    "# Clase 09 - Sistemas de ecuaciones lineales II"
   ]
  },
  {
   "cell_type": "code",
   "execution_count": 1,
   "metadata": {},
   "outputs": [],
   "source": [
    "import numpy as np\n",
    "from matplotlib import pyplot as plt\n",
    "from scipy import linalg"
   ]
  },
  {
   "cell_type": "code",
   "execution_count": 2,
   "metadata": {},
   "outputs": [],
   "source": [
    "plt.style.use('seaborn-poster')\n",
    "\n",
    "#formato de impresión de los números en los arreglos de Numpy\n",
    "#np.set_printoptions(formatter={'float': '{: .4f}'.format})"
   ]
  },
  {
   "cell_type": "markdown",
   "metadata": {},
   "source": [
    "### Descomposición LU"
   ]
  },
  {
   "cell_type": "markdown",
   "metadata": {},
   "source": [
    "Toda matriz $\\mathbf{A}$ puede ser escrita como el producto de una mtriz triangular inferior $\\mathbf{L}$ y una matriz triangular superior $\\mathbf{U}$, es decir, $\\mathbf{A}=\\mathbf{LU}$.\n",
    "\n",
    "Esta descomposición no es única. Algunas de las descomposiciones más usadas son:\n",
    "\n",
    "\\begin{equation*}\n",
    "\\begin{array}{|l|l|}\\hline \\text { Nombre } & \\text { Restricción } \\\\ \\hline \\hline \\text { Doolittle } & L_{i i}=1, i=1,2, \\ldots, n \\\\ \\hline \\text { Crout } & U_{i i}=1, i=1,2, \\ldots, n \\\\ \\hline \\text { Choleski } & \\mathbf{L}=\\mathbf{U}^{T} \\\\ \\hline\\end{array}\n",
    "\\end{equation*}"
   ]
  },
  {
   "cell_type": "markdown",
   "metadata": {},
   "source": [
    "Resolvamos el sistema de ecuaciones \n",
    "\n",
    "\\begin{equation*}\n",
    "\\begin{aligned} \n",
    "4 x_{1}-2 x_{2}+x_{3} &=11 \\\\\n",
    "-2 x_{1}+4 x_{2}-2 x_{3} &=-16 \\\\ \n",
    "x_{1}-2 x_{2}+4 x_{3} &=17 \n",
    "\\end{aligned}\n",
    "\\end{equation*}"
   ]
  },
  {
   "cell_type": "markdown",
   "metadata": {},
   "source": [
    "La rutina lu_factor de $\\textit{Scipy}$) implemente el método de Doolittle"
   ]
  },
  {
   "cell_type": "code",
   "execution_count": 3,
   "metadata": {},
   "outputs": [],
   "source": [
    "A = np.array([[4,-2,1],[-2,4,-2],[1,-2,4]],dtype=np.double)\n",
    "b = np.array([11,-16,17],dtype=np.double)"
   ]
  },
  {
   "cell_type": "code",
   "execution_count": 4,
   "metadata": {},
   "outputs": [],
   "source": [
    "L,U = linalg.lu(A,permute_l=True)"
   ]
  },
  {
   "cell_type": "code",
   "execution_count": 5,
   "metadata": {},
   "outputs": [
    {
     "name": "stdout",
     "output_type": "stream",
     "text": [
      "[[ 1.    0.    0.  ]\n",
      " [-0.5   1.    0.  ]\n",
      " [ 0.25 -0.5   1.  ]]\n"
     ]
    }
   ],
   "source": [
    "print (L)"
   ]
  },
  {
   "cell_type": "code",
   "execution_count": 6,
   "metadata": {},
   "outputs": [
    {
     "name": "stdout",
     "output_type": "stream",
     "text": [
      "[[ 4.  -2.   1. ]\n",
      " [ 0.   3.  -1.5]\n",
      " [ 0.   0.   3. ]]\n"
     ]
    }
   ],
   "source": [
    "print (U)"
   ]
  },
  {
   "cell_type": "code",
   "execution_count": 7,
   "metadata": {},
   "outputs": [],
   "source": [
    "lu, piv = linalg.lu_factor(A)"
   ]
  },
  {
   "cell_type": "code",
   "execution_count": 8,
   "metadata": {},
   "outputs": [
    {
     "name": "stdout",
     "output_type": "stream",
     "text": [
      "[ 1. -2.  3.]\n"
     ]
    }
   ],
   "source": [
    "x = linalg.lu_solve((lu, piv), b)\n",
    "print (x)"
   ]
  },
  {
   "cell_type": "markdown",
   "metadata": {},
   "source": [
    "Ahora resolvamos el sistema de ecuaciones $A\\vec{x}=\\vec{b}$ con\n",
    "\n",
    "\\begin{equation*}\n",
    "\\mathbf{A}=\\left[\\begin{array}{rrrr}\n",
    "1.44 & -0.36 & 5.52 & 0.00 \\\\ \n",
    "-0.36 & 10.33 & -7.78 & 0.00 \\\\ \n",
    "5.52 & -7.78 & 28.40 & 9.00 \\\\ \n",
    "0.00 & 0.00 & 9.00 & 61.00\n",
    "\\end{array}\\right] \\quad \n",
    "\\mathbf{b}=\\left[\\begin{array}{r}\n",
    "0.04 \\\\ \n",
    "-2.15 \\\\ \n",
    "0 \\\\ \n",
    "0.88\n",
    "\\end{array}\\right]\n",
    "\\end{equation*}"
   ]
  },
  {
   "cell_type": "code",
   "execution_count": 9,
   "metadata": {},
   "outputs": [],
   "source": [
    "A = np.array([[ 1.44, -0.36, 5.52, 0.0], [-0.36, 10.33, -7.78, 0.0],\n",
    "              [ 5.52, -7.78, 28.40, 9.0], [ 0.0, 0.0, 9.0, 61.0]]) \n",
    "b = np.array([0.04, -2.15, 0.0, 0.88])"
   ]
  },
  {
   "cell_type": "code",
   "execution_count": 10,
   "metadata": {},
   "outputs": [
    {
     "name": "stdout",
     "output_type": "stream",
     "text": [
      "[ 3.09212567 -0.73871706 -0.8475723   0.13947788]\n"
     ]
    }
   ],
   "source": [
    "lu, piv = linalg.lu_factor(A)\n",
    "x = linalg.lu_solve((lu, piv), b)\n",
    "print (x)"
   ]
  },
  {
   "cell_type": "code",
   "execution_count": 11,
   "metadata": {},
   "outputs": [
    {
     "name": "stdout",
     "output_type": "stream",
     "text": [
      "[-1.74166237e-15  2.22044605e-15  0.00000000e+00  7.77156117e-16]\n"
     ]
    }
   ],
   "source": [
    "print (np.dot(A,x)-b)"
   ]
  },
  {
   "cell_type": "markdown",
   "metadata": {},
   "source": [
    "Resolvamos ahora el sistema de ecuaciones $A\\vec{x}=\\vec{b}$ con\n",
    "\n",
    "\\begin{equation*}\n",
    "\\mathbf{A}=\\left[\\begin{array}{rrr}\n",
    "1 & 1 & 1 \\\\\n",
    "0 & 0 & 2 \\\\\n",
    "0 & 1 & 1\n",
    "\\end{array}\\right] \n",
    "\\quad \n",
    "\\mathbf{b}=\\left[\\begin{array}{r}\n",
    "1 \\\\ 1 \\\\ 2\n",
    "\\end{array}\\right]\n",
    "\\end{equation*}"
   ]
  },
  {
   "cell_type": "code",
   "execution_count": 12,
   "metadata": {},
   "outputs": [],
   "source": [
    "A = np.array([[1.0, 1.0, 1.0],[0.0, 0.0, 2.0],[0.0, 1.0, 1.0]])\n",
    "b = np.array([1.0, 1.0, 2.0])"
   ]
  },
  {
   "cell_type": "code",
   "execution_count": 13,
   "metadata": {},
   "outputs": [
    {
     "name": "stdout",
     "output_type": "stream",
     "text": [
      "[-1.   1.5  0.5]\n"
     ]
    }
   ],
   "source": [
    "lu, piv = linalg.lu_factor(A)\n",
    "x = linalg.lu_solve((lu, piv), b)\n",
    "print (x)"
   ]
  },
  {
   "cell_type": "code",
   "execution_count": 14,
   "metadata": {},
   "outputs": [
    {
     "name": "stdout",
     "output_type": "stream",
     "text": [
      "[0. 0. 0.]\n"
     ]
    }
   ],
   "source": [
    "print (np.dot(A,x)-b)"
   ]
  },
  {
   "cell_type": "markdown",
   "metadata": {},
   "source": [
    "### Descomposición de Cholesky\n",
    "\n",
    "Consideremos la matriz \n",
    "\n",
    "\\begin{equation*}\n",
    "\\mathbf{A}=\\left[\\begin{array}{rrrr}\n",
    "6 & 3 & 4 & 8 \\\\\n",
    "3 & 6 & 5 & 1 \\\\\n",
    "4 & 5 & 10 & 7 \\\\\n",
    "8 & 1 & 7 & 25 \\\\\n",
    "\\end{array}\\right] \n",
    "\\end{equation*}\n"
   ]
  },
  {
   "cell_type": "code",
   "execution_count": 15,
   "metadata": {},
   "outputs": [],
   "source": [
    "A = np.array([[6, 3, 4, 8], [3, 6, 5, 1], [4, 5, 10, 7], [8, 1, 7, 25]])\n",
    "L = linalg.cholesky(A, lower=True)\n",
    "U = linalg.cholesky(A, lower=False)"
   ]
  },
  {
   "cell_type": "code",
   "execution_count": 16,
   "metadata": {},
   "outputs": [
    {
     "name": "stdout",
     "output_type": "stream",
     "text": [
      "[[ 2.44948974  0.          0.          0.        ]\n",
      " [ 1.22474487  2.12132034  0.          0.        ]\n",
      " [ 1.63299316  1.41421356  2.30940108  0.        ]\n",
      " [ 3.26598632 -1.41421356  1.58771324  3.13249102]]\n"
     ]
    }
   ],
   "source": [
    "print (L)"
   ]
  },
  {
   "cell_type": "code",
   "execution_count": 17,
   "metadata": {},
   "outputs": [
    {
     "name": "stdout",
     "output_type": "stream",
     "text": [
      "[[ 2.44948974  1.22474487  1.63299316  3.26598632]\n",
      " [ 0.          2.12132034  1.41421356 -1.41421356]\n",
      " [ 0.          0.          2.30940108  1.58771324]\n",
      " [ 0.          0.          0.          3.13249102]]\n"
     ]
    }
   ],
   "source": [
    "print (U)"
   ]
  },
  {
   "cell_type": "code",
   "execution_count": 18,
   "metadata": {},
   "outputs": [
    {
     "name": "stdout",
     "output_type": "stream",
     "text": [
      "[[-8.8817842e-16  0.0000000e+00  0.0000000e+00  0.0000000e+00]\n",
      " [ 0.0000000e+00 -8.8817842e-16  0.0000000e+00  0.0000000e+00]\n",
      " [ 0.0000000e+00  0.0000000e+00  0.0000000e+00  0.0000000e+00]\n",
      " [ 0.0000000e+00  0.0000000e+00  0.0000000e+00  0.0000000e+00]]\n"
     ]
    }
   ],
   "source": [
    "print (np.dot(L,L.T)-A)"
   ]
  },
  {
   "cell_type": "code",
   "execution_count": 19,
   "metadata": {},
   "outputs": [
    {
     "name": "stdout",
     "output_type": "stream",
     "text": [
      "[[-8.8817842e-16  0.0000000e+00  0.0000000e+00  0.0000000e+00]\n",
      " [ 0.0000000e+00 -8.8817842e-16  0.0000000e+00  0.0000000e+00]\n",
      " [ 0.0000000e+00  0.0000000e+00  0.0000000e+00  0.0000000e+00]\n",
      " [ 0.0000000e+00  0.0000000e+00  0.0000000e+00  0.0000000e+00]]\n"
     ]
    }
   ],
   "source": [
    "print (np.dot(U.T,U)-A)"
   ]
  },
  {
   "cell_type": "code",
   "execution_count": null,
   "metadata": {},
   "outputs": [],
   "source": []
  },
  {
   "cell_type": "code",
   "execution_count": null,
   "metadata": {},
   "outputs": [],
   "source": []
  }
 ],
 "metadata": {
  "kernelspec": {
   "display_name": "Python 3",
   "language": "python",
   "name": "python3"
  },
  "language_info": {
   "codemirror_mode": {
    "name": "ipython",
    "version": 3
   },
   "file_extension": ".py",
   "mimetype": "text/x-python",
   "name": "python",
   "nbconvert_exporter": "python",
   "pygments_lexer": "ipython3",
   "version": "3.7.1"
  }
 },
 "nbformat": 4,
 "nbformat_minor": 2
}
