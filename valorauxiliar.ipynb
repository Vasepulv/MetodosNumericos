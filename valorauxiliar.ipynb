{
 "cells": [
  {
   "cell_type": "markdown",
   "metadata": {},
   "source": [
    "Segun el método de Verlet, tenemos que:\n",
    "$$y(t+\\Delta t)=y(t)+v(y)+a(t)\\frac{(\\Delta t)^{2}}{2}$$\n",
    "\n",
    "y la ecuacion de velocidad:\n",
    "$$v(t+\\Delta t)=v(t)+\\frac{1}{2}[a(t)+a(t+\\Delta t)]*{\\Delta t}^{2}$$\n",
    "\n",
    "Usamos estas ecuaciones en la implemetación."
   ]
  },
  {
   "cell_type": "code",
   "execution_count": 1,
   "metadata": {},
   "outputs": [],
   "source": [
    "def VerletVelocidad(x0,y0,v0,n,tmax):\n",
    "    \n",
    "    y=np.zeros(n)\n",
    "    x=np.linspace(1,2,n)\n",
    "    a=np.zeros(n)\n",
    "    v=np.zeros(n)\n",
    "    delta=0.005\n",
    "    t=np.linspace(0,tmax,n)\n",
    "    \n",
    "    y[0]=y0\n",
    "    v[0]=v0\n",
    "    a[0]=fuerza(y[0])\n",
    "    \n",
    "    for i in range(1,n-1):\n",
    "        y[i]=y[i-1]+v[i-1]*delta+a[i-1]*np.power(delta,2)/2\n",
    "        a[i]=fuerza(y[i])\n",
    "        v[i]=v[i-1]+(a[i-1]+a[i])*delta/2\n",
    "    \n",
    "    return (t,x,y,v,a)\n"
   ]
  },
  {
   "cell_type": "code",
   "execution_count": 2,
   "metadata": {},
   "outputs": [],
   "source": [
    "def iterA(n,y0):\n",
    "    y=np.linspace(y0,0,n)\n",
    "    suma=0.0\n",
    "    aceleracion=np.zeros(n)\n",
    "    suma+=aceleracion[0]\n",
    "    aceleracion[0]=fuerza(y0)\n",
    "    for i in range(1,n-1):\n",
    "        aceleracion[i]=fuerza(y[i])\n",
    "        suma+=aceleracion[i]\n",
    "    return (y,aceleracion,suma)"
   ]
  },
  {
   "cell_type": "code",
   "execution_count": 3,
   "metadata": {},
   "outputs": [],
   "source": [
    "def comparar(n,y0):\n",
    "    b=np.zeros(n)\n",
    "    y1,a1=iterA(n,y0)\n",
    "    t,x,y2,v2,a2=VerletVelocidad(0,y0,0,n,100)\n",
    "    plt.plot(a1,y1,label=\"Valor analitico\")\n",
    "    plt.plot(a2,y2,label=\"Metodo Numerico\")\n",
    "    plt.legend()\n",
    "    plt.xlabel(\"Aceleración\")\n",
    "    plt.ylabel(\"Posicion vertical\")\n",
    "    plt.title(\"Comparación método numerico vs Valor analitico con \"+str(n)+\" iteraciones\")\n",
    "    \n",
    "    "
   ]
  },
  {
   "cell_type": "code",
   "execution_count": null,
   "metadata": {},
   "outputs": [],
   "source": [
    "comparar(1200,2.24)"
   ]
  },
  {
   "cell_type": "code",
   "execution_count": null,
   "metadata": {},
   "outputs": [],
   "source": [
    "comparar(2000,2.24)"
   ]
  },
  {
   "cell_type": "code",
   "execution_count": null,
   "metadata": {},
   "outputs": [],
   "source": [
    "comparar(800,2.24)"
   ]
  }
 ],
 "metadata": {
  "kernelspec": {
   "display_name": "Python 3",
   "language": "python",
   "name": "python3"
  },
  "language_info": {
   "codemirror_mode": {
    "name": "ipython",
    "version": 3
   },
   "file_extension": ".py",
   "mimetype": "text/x-python",
   "name": "python",
   "nbconvert_exporter": "python",
   "pygments_lexer": "ipython3",
   "version": "3.7.1"
  }
 },
 "nbformat": 4,
 "nbformat_minor": 2
}
