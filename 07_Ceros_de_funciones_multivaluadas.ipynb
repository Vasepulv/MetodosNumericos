{
 "cells": [
  {
   "cell_type": "markdown",
   "metadata": {},
   "source": [
    "# Clase 07 - Ceros de funciones multivaluadas"
   ]
  },
  {
   "cell_type": "code",
   "execution_count": 1,
   "metadata": {},
   "outputs": [],
   "source": [
    "import numpy as np\n",
    "from matplotlib import pyplot as plt\n",
    "from scipy.optimize import fsolve"
   ]
  },
  {
   "cell_type": "code",
   "execution_count": 2,
   "metadata": {},
   "outputs": [],
   "source": [
    "plt.style.use('seaborn-poster')"
   ]
  },
  {
   "cell_type": "markdown",
   "metadata": {},
   "source": [
    "Definamos una función para calcular el Jacobiano de una función como\n",
    "\n",
    "$$\n",
    "J_{ij} = \\frac{\\partial f_i}{\\partial x_j} = \\frac{f_i(\\vec{x}+h\\hat{e}_j)-f_i(\\vec{x})}{h}\n",
    "$$"
   ]
  },
  {
   "cell_type": "code",
   "execution_count": 3,
   "metadata": {},
   "outputs": [],
   "source": [
    "def J(f,x,h):\n",
    "    n = len(x)\n",
    "    jac = np.zeros((n,n))\n",
    "    f0 = f(x)\n",
    "    for j in range(n):\n",
    "        xtemp = x[j]\n",
    "        x[j] = xtemp + h\n",
    "        f1 = f(x)\n",
    "        x[j] = xtemp\n",
    "        jac[:,j] = (f1 - f0)/h\n",
    "    return (jac,f0)"
   ]
  },
  {
   "cell_type": "markdown",
   "metadata": {},
   "source": [
    "El método de Newton-Raphson está dado por la solución del sistema de ecuaciones\n",
    "\n",
    "$$\n",
    "J(\\vec{x})\\Delta\\vec{x} = - \\vec{f}(\\vec{x})\n",
    "$$"
   ]
  },
  {
   "cell_type": "code",
   "execution_count": 4,
   "metadata": {},
   "outputs": [],
   "source": [
    "def NewtonRaphson(f,x,h=1.0e-4,tol=1.0e-9,maxiter=30):\n",
    "    for i in range(maxiter):\n",
    "        j,f0 = J(f,x,h)\n",
    "        if np.sqrt(np.dot(f0,f0)/len(x)) < tol:\n",
    "            return (x)\n",
    "        dx = np.linalg.solve(j,-f0)\n",
    "        x = x + dx\n",
    "        if np.sqrt(np.dot(dx,dx)) < tol*max(max(abs(x)),1.0):\n",
    "            return (x)\n",
    "    \n",
    "    print('Demasiadas iteraciones')"
   ]
  },
  {
   "cell_type": "markdown",
   "metadata": {},
   "source": [
    "Encontremos una solución del siguiente sistema de ecuaciones en torno a $(1,1,1)$\n",
    "\n",
    "\\begin{equation*}\n",
    "\\begin{aligned} \n",
    "\\sin x+y^{2}+\\ln z-7 &=0 \\\\ \n",
    "3 x+2^{y}-z^{3}+1 &=0 \n",
    "\\\\ x+y+z-5 &=0 \n",
    "\\end{aligned}\n",
    "\\end{equation*}"
   ]
  },
  {
   "cell_type": "code",
   "execution_count": 5,
   "metadata": {},
   "outputs": [],
   "source": [
    "def f(x):\n",
    "    f = np.zeros(len(x))\n",
    "    f[0] = np.sin(x[0]) + x[1]**2 + np.log(x[2]) - 7.0\n",
    "    f[1] = 3.0*x[0] + 2.0**x[1] - x[2]**3 + 1.0\n",
    "    f[2] = x[0] + x[1] + x[2] - 5.0\n",
    "    return (f)"
   ]
  },
  {
   "cell_type": "code",
   "execution_count": 6,
   "metadata": {},
   "outputs": [
    {
     "name": "stdout",
     "output_type": "stream",
     "text": [
      "[0.59905376 2.3959314  2.00501484] [6.23652241e-11 1.12226672e-10 0.00000000e+00]\n"
     ]
    }
   ],
   "source": [
    "x = np.array([1.0,1.0,1.0])\n",
    "x0 = NewtonRaphson(f,x,h=1.0e-10)\n",
    "print(x0,f(x0))"
   ]
  },
  {
   "cell_type": "code",
   "execution_count": null,
   "metadata": {},
   "outputs": [],
   "source": []
  }
 ],
 "metadata": {
  "kernelspec": {
   "display_name": "Python 3",
   "language": "python",
   "name": "python3"
  },
  "language_info": {
   "codemirror_mode": {
    "name": "ipython",
    "version": 3
   },
   "file_extension": ".py",
   "mimetype": "text/x-python",
   "name": "python",
   "nbconvert_exporter": "python",
   "pygments_lexer": "ipython3",
   "version": "3.7.1"
  }
 },
 "nbformat": 4,
 "nbformat_minor": 2
}
