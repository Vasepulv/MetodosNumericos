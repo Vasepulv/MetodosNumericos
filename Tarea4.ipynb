{
 "cells": [
  {
   "cell_type": "code",
   "execution_count": 1,
   "metadata": {},
   "outputs": [],
   "source": [
    "import numpy as np\n",
    "from matplotlib import pyplot as plt\n",
    "from scipy import linalg\n",
    "import scipy"
   ]
  },
  {
   "cell_type": "code",
   "execution_count": 2,
   "metadata": {},
   "outputs": [],
   "source": [
    "plt.style.use('seaborn-poster')"
   ]
  },
  {
   "cell_type": "markdown",
   "metadata": {},
   "source": [
    "### Pregunta 1"
   ]
  },
  {
   "cell_type": "markdown",
   "metadata": {},
   "source": [
    "Dividimos el problema en cuatro partes, una para cada bloque. Asumimos que $x$ e $y$ están en la direcciones de la cuñeta, con $x$ siendo la dirección horizontal e $y$ siendo la dirección vertical.\n",
    "\n",
    "#### Masa 1\n",
    "\n",
    "Primero resolvemos el problema de la masa $m_1$: Claramente tenemos la fuerza de la tensión la cual es $T_1$, tenemos el peso $m_1g$, la fuerza normal en sentido perpendicular a la superficie $N_{1}$, y por último la fricción con fuerza $\\mu_{1}N_1$.\n",
    "\n",
    "Ahora ordenamos las ecuaciones, primero creamos la ecuación del eje $x$:\n",
    "$$T_1+Fr-m_1cos(\\theta)=T_1+N_{1}\\mu_{1}-m_1cos(\\theta)g=am_1$$"
   ]
  },
  {
   "cell_type": "markdown",
   "metadata": {},
   "source": [
    "Y la ecuación del eje $y$:\n",
    "            $$N_{1}-m_{1}gsen(\\theta)=0$$\n",
    "            \n",
    "Resolvemos y sacamos $N_1$:\n",
    "            $$N_{1}=m_{1}gsen(\\theta)$$"
   ]
  },
  {
   "cell_type": "markdown",
   "metadata": {},
   "source": [
    "Reemplazamos este $N_1$ en la ecuación de $x$\n",
    "            $$T_1+m_{1}g\\mu_{1}sen(\\theta)-m_{1}gcos(\\theta)=am_1$$"
   ]
  },
  {
   "cell_type": "markdown",
   "metadata": {},
   "source": [
    "#### Masa 2"
   ]
  },
  {
   "cell_type": "markdown",
   "metadata": {},
   "source": [
    "Para la masa $m_2$ tenemos las mismas fuerzas que en $m_1$ salvo que hay otra fuerza de tensión adicional. Entonces, tenemos la tension de arriba: $T_2$, tenemos la tensión de abajo $-T_1$. La otra fuerza horizontal que hay es el roce con $\\mu_{2}$, la cual es $-N_2\\mu_{2}$. En resumen para el eje $x$:\n",
    "        $$T_2-T_1+N_2\\mu_{2}-m_2gcos(\\theta)=m_2a$$"
   ]
  },
  {
   "cell_type": "markdown",
   "metadata": {},
   "source": [
    "Ahora para el eje $y$, tenemos la fuerza del peso con $-m_{2}g$ y la fuerza de la normal con $N_2$ resumiendo obtenemos que para el eje $y$ la siguiente ecuación:\n",
    "            $$N_{2}=m_{2}gsen(\\theta)$$"
   ]
  },
  {
   "cell_type": "markdown",
   "metadata": {},
   "source": [
    "Haciendo analogo a la masa $m_1$ reemplazamos $N_2$ en la ecuacion de $x$:\n",
    "                $$T_{2}-T_1+m_{2}g\\mu_{2}sen(\\theta)-m_2gcos(\\theta)=m_2a$$"
   ]
  },
  {
   "cell_type": "markdown",
   "metadata": {},
   "source": [
    "#### Masa 3"
   ]
  },
  {
   "cell_type": "markdown",
   "metadata": {},
   "source": [
    "Para la masa $m_3$ tenemos lo mismo que para $m_2$ pero para $m_3$.\n",
    "\n",
    "La ecuación horizontal tiene a la fuerza de la Tensión pero para $T_3$, y la fuerza de la tensión de $T_2$. Tambien tenemos el roce con $\\mu_{3}$. Entonces tenemos que:\n",
    "        $$T_3-T_2+N_3\\mu_{3}-m_3gcos(\\theta)=m_3a$$"
   ]
  },
  {
   "cell_type": "markdown",
   "metadata": {},
   "source": [
    "Para la ecuación de $y$ es lo mismo que para la masa $m_2$ pero con $N_3$ y $m_3$.\n",
    "                $$N_3=m_3gsen(\\theta)$$"
   ]
  },
  {
   "cell_type": "markdown",
   "metadata": {},
   "source": [
    "Reemplazando $N_3$ en la ecuación de $x$:\n",
    "            $$T_3-T_2+m_3g\\mu_{3}sen(\\theta)-m_3gcos(\\theta)=m_3a$$"
   ]
  },
  {
   "cell_type": "markdown",
   "metadata": {},
   "source": [
    "#### Masa 4"
   ]
  },
  {
   "cell_type": "markdown",
   "metadata": {},
   "source": [
    "En este caso para $m_4$ no hay ecuación de $x$ porque no hay movimiento horizontal, ni hay fuerzas horizontales, así que solo hay ecuación en el eje $y$.\n",
    "        $$T_3-m_{4}g=-am_4$$"
   ]
  },
  {
   "cell_type": "markdown",
   "metadata": {},
   "source": [
    "#### Planteamiento del problema\n",
    "\n",
    "Vamos a ver el problema de la siguiente forma, dado que tenemos $\\vec{m}$, y nos falta por encontrar $\\vec{T}$, podemos escribirlo de forma que las masas estén en un lado y las tensiones en otro, entonces tomamos las masas como el vector $\\vec{b}$ y el vector de Tensión $\\vec{T}$ como el equivalente al vector $\\vec{x}$. Entonces escribimos el siguiente sistema de ecuaciones.\n",
    "$$A\\vec{T}=\\vec{m}$$"
   ]
  },
  {
   "cell_type": "markdown",
   "metadata": {},
   "source": [
    "Definimos $\\vec{T}$ de la siguiente forma:\n",
    "$$\\vec{T}=\\begin{bmatrix}\n",
    "        T_1 \\\\\n",
    "        T_2 \\\\\n",
    "        T_3\\\\\n",
    "        a\n",
    "        \\end{bmatrix}$$"
   ]
  },
  {
   "cell_type": "markdown",
   "metadata": {},
   "source": [
    "Reordenamos las ecuaciones para que que se multipliquen con $\\vec{T}$, así tratamos de dejar las tensiones y la aceleración de un lado y las masas en otra.\n",
    "\n",
    "Tenemos que la primera fila de $A\\vec{T}$ es:\n",
    "$$T_1-am_{1}=-m_1g\\mu_{1}sen(\\theta)+m_{1}gcos(\\theta)$$"
   ]
  },
  {
   "cell_type": "markdown",
   "metadata": {},
   "source": [
    "La segunda fila de $A\\vec{T}$ es:\n",
    "$$T_{2}-T_1-m_2a=-m_{2}g\\mu_{2}sen(\\theta)+m_2gcos(\\theta)$$"
   ]
  },
  {
   "cell_type": "markdown",
   "metadata": {},
   "source": [
    "La tercera fila de $A\\vec{T}$ es:\n",
    "$$T_3-T_2-m_3a=-m_3g\\mu_{3}sen(\\theta)+m_3gcos(\\theta)$$"
   ]
  },
  {
   "cell_type": "markdown",
   "metadata": {},
   "source": [
    "La ultima fila de $A\\vec{T}$ es:\n",
    "$$T_3+am_4=m_{4}g$$"
   ]
  },
  {
   "cell_type": "markdown",
   "metadata": {},
   "source": [
    "Entonces $A\\vec{T}$ queda de la siguiente forma:\n",
    "$$A\\vec{T}=\\begin{bmatrix}\n",
    "        T_1 & 0 & 0 &-am_{1}\\\\\n",
    "        -T_{1}& T_2& 0 &-m_2a \\\\\n",
    "        0 & -T_2 & T_3 &-m_3a \\\\\n",
    "        0 & 0 & T_3 & m_4a\n",
    "        \\end{bmatrix}$$"
   ]
  },
  {
   "cell_type": "markdown",
   "metadata": {},
   "source": [
    "Escribimos A entonces como:\n",
    "$$A=\\begin{bmatrix}\n",
    "        1& 0 & 0 & -m_1 \\\\\n",
    "        -1& 1& 0 &-m_2\\\\\n",
    "        0 & -1 & 1 &-m_3 \\\\\n",
    "        0 & 0 & 1 & m_4\n",
    "        \\end{bmatrix}$$"
   ]
  },
  {
   "cell_type": "markdown",
   "metadata": {},
   "source": [
    "Teniendo el vector $\\vec{b}$:\n",
    "$$\\vec{b}=\\begin{bmatrix}\n",
    "       -m_1g\\mu_{1}sen(\\theta)+m_{1}gcos(\\theta) \\\\\n",
    "       -m_2g\\mu_{2}sen(\\theta)+m_2gcos(\\theta)\\\\\n",
    "       -m_3g\\mu_{3}sen(\\theta)+m_3gcos(\\theta)\\\\\n",
    "       m_4g\n",
    "       \\end{bmatrix}\n",
    "$$"
   ]
  },
  {
   "cell_type": "markdown",
   "metadata": {},
   "source": [
    "Dado que $\\theta=45°$, entonces $cos(\\theta)=\\frac{\\sqrt{2}}{2}$. Para $sen(\\theta)$ obtenemos que $sen(\\theta)=\\frac{\\sqrt{2}}{2}$."
   ]
  },
  {
   "cell_type": "markdown",
   "metadata": {},
   "source": [
    "Reemplazamos en $\\vec{b}$\n",
    "$$\\vec{b}=\\begin{bmatrix}\n",
    "       -m_1g\\mu_{1}\\frac{\\sqrt{2}}{2}+m_{1}g\\frac{\\sqrt{2}}{2} \\\\\n",
    "       -m_2g\\mu_{2}\\frac{\\sqrt{2}}{2}+m_2g\\frac{\\sqrt{2}}{2}\\\\\n",
    "       -m_3g\\mu_{3}\\frac{\\sqrt{2}}{2}+m_3g\\frac{\\sqrt{2}}{2}\\\\\n",
    "       m_4g\n",
    "       \\end{bmatrix}\n",
    "$$"
   ]
  },
  {
   "cell_type": "markdown",
   "metadata": {},
   "source": [
    "Ordenando todo tenemos que resolver el siguiente sistema.\n",
    "$$A=\\begin{bmatrix}\n",
    "        1& 0 & 0 & -m_1 \\\\\n",
    "        -1& 1& 0 &-m_2\\\\\n",
    "        0 & -1 & 1 &-m_3 \\\\\n",
    "        0 & 0 & 1 & m_4\n",
    "        \\end{bmatrix} \\times \\begin{bmatrix}\n",
    "            T_1 \\\\\n",
    "            T_2 \\\\\n",
    "            T_3 \\\\\n",
    "            a \\end{bmatrix} = \\begin{bmatrix}\n",
    "       -m_1g\\mu_{1}\\frac{\\sqrt{2}}{2}+m_{1}g\\frac{\\sqrt{2}}{2} \\\\\n",
    "       -m_2g\\mu_{2}\\frac{\\sqrt{2}}{2}+m_2g\\frac{\\sqrt{2}}{2}\\\\\n",
    "       -m_3g\\mu_{3}\\frac{\\sqrt{2}}{2}+m_3g\\frac{\\sqrt{2}}{2}\\\\\n",
    "       +m_4g\n",
    "       \\end{bmatrix}$$\n",
    "       \n",
    "Usando el método de Gauss obtenemos que:\n",
    "\n",
    "Primero definiendo la matriz $A$ y luego el vector $\\vec{m}$."
   ]
  },
  {
   "cell_type": "code",
   "execution_count": 65,
   "metadata": {},
   "outputs": [
    {
     "name": "stdout",
     "output_type": "stream",
     "text": [
      "[[  1   0   0 -10]\n",
      " [ -1   1   0  -4]\n",
      " [  0  -1   1  -5]\n",
      " [  0   0   1   6]]\n"
     ]
    }
   ],
   "source": [
    "A=np.array([[1,0,0,-10],[-1,1,0,-4],[0,-1,1,-5],[0,0,1,6]])\n",
    "print(A)"
   ]
  },
  {
   "cell_type": "code",
   "execution_count": 66,
   "metadata": {},
   "outputs": [
    {
     "name": "stdout",
     "output_type": "stream",
     "text": [
      "[51.97234842 19.40301008 27.71858582 58.8       ]\n"
     ]
    }
   ],
   "source": [
    "raiz=np.sin(np.pi/4)\n",
    "g=9.8\n",
    "mu_1=0.25\n",
    "mu_2=0.3\n",
    "mu_3=0.2\n",
    "masa=np.array([10,4,5,6])\n",
    "m=np.array([masa[0]*g*raiz*(1-mu_1),masa[1]*g*raiz*(1-mu_2),masa[2]*g*raiz*(1-mu_3),masa[3]*g])\n",
    "print(m)"
   ]
  },
  {
   "cell_type": "code",
   "execution_count": 68,
   "metadata": {},
   "outputs": [
    {
     "name": "stdout",
     "output_type": "stream",
     "text": [
      "[35.85477069 48.81074968 68.47054664 -1.61175777]\n"
     ]
    }
   ],
   "source": [
    "x = np.linalg.solve(A, m)\n",
    "print(x)"
   ]
  },
  {
   "cell_type": "markdown",
   "metadata": {},
   "source": [
    "Entonces obtenemos que la Tension $T_1=35.8547$, $T_2=48.8107$, $T_3=68.4705$ y la aceleración es $a=1.6118[\\frac{m}{s^2}]$ hacia abajo."
   ]
  },
  {
   "cell_type": "markdown",
   "metadata": {},
   "source": [
    "### Pregunta 2"
   ]
  },
  {
   "cell_type": "markdown",
   "metadata": {},
   "source": [
    "Tenemos la siguiente matriz A:\n",
    "    $$A=\\begin{bmatrix}\n",
    "    5+i & 5+2i & -5+3i & 6-3i\\\\\n",
    "    5+2i & 7-2i & 8-i & -1+3i \\\\\n",
    "    -5+3i & 8-i & -3-3i & 2+2i \\\\\n",
    "    6-3i & -1+3i & 2+2i & 8+14i\n",
    "    \\end{bmatrix}$$\n",
    "    \n",
    "Y tenemos que resolver el sistema $A\\vec{x}=\\vec{b}$ con b:\n",
    "$$\\vec{b}=\\begin{bmatrix} 15-35i \\\\ 2+10i \\\\ -2-34i \\\\ 8+14i\\end{bmatrix}$$"
   ]
  },
  {
   "cell_type": "markdown",
   "metadata": {},
   "source": [
    "Definimos $A$ y $\\vec{b}$:"
   ]
  },
  {
   "cell_type": "code",
   "execution_count": 66,
   "metadata": {},
   "outputs": [],
   "source": [
    "A=np.array([[5+1j,5+2j,-5+3j,6-3j],[5+2j,7-2j,8-1j,-1+3j],[-5+3j,8-1j,-3-3j,2+2j],[6-3j,-1+3j,2+2j,8+14j]],dtype=np.complex128)\n",
    "b=np.array([15-35j,2+10j,-2-34j,8+14j],dtype=np.complex128)"
   ]
  },
  {
   "cell_type": "markdown",
   "metadata": {},
   "source": [
    "Vamos a usar el metodo de Doolitle para resolver la matriz. Primero obtenemos L, y U."
   ]
  },
  {
   "cell_type": "code",
   "execution_count": 152,
   "metadata": {},
   "outputs": [],
   "source": [
    "lu, piv = linalg.lu_factor(A)"
   ]
  },
  {
   "cell_type": "markdown",
   "metadata": {},
   "source": [
    "Luego obtenemos el valor $x$:"
   ]
  },
  {
   "cell_type": "code",
   "execution_count": 153,
   "metadata": {},
   "outputs": [
    {
     "name": "stdout",
     "output_type": "stream",
     "text": [
      "[ 2.40149288+0.08519672j  0.17494035-4.00400685j -0.57610661+4.08977596j\n",
      "  0.20984978+0.77490434j]\n"
     ]
    }
   ],
   "source": [
    "x = linalg.lu_solve((lu, piv), b)\n",
    "print (x)"
   ]
  },
  {
   "cell_type": "markdown",
   "metadata": {},
   "source": [
    "Podemos ver los valores son diversos, aunque su parte real no son valores grandes todos con menor de 3, su parte imaginario llega a lo más al valor absoluto $4i$. Ahora veamos la precision de la solución."
   ]
  },
  {
   "cell_type": "code",
   "execution_count": 149,
   "metadata": {},
   "outputs": [
    {
     "name": "stdout",
     "output_type": "stream",
     "text": [
      "[ 1.77635684e-15+1.42108547e-14j  3.55271368e-15-3.55271368e-15j\n",
      "  4.44089210e-16+0.00000000e+00j -1.77635684e-15+3.55271368e-15j]\n"
     ]
    }
   ],
   "source": [
    "print (np.dot(A,x)-b)"
   ]
  },
  {
   "cell_type": "markdown",
   "metadata": {},
   "source": [
    "Vemos que los valores son del orden $10^{-16}$ o $10^{-15}$ que es la precision de la maquina por lo que podemos ver que los valores están acertados."
   ]
  },
  {
   "cell_type": "markdown",
   "metadata": {},
   "source": [
    "### Pregunta 3"
   ]
  },
  {
   "cell_type": "markdown",
   "metadata": {},
   "source": [
    "Suponemos un problema de $N$ incognitas $y_i$. Tambien suponemos que los elementos $A_{ij}$ son de la siguiente forma:\n",
    "$${a_{ij}=}\\frac{1}{i+j-1}$$.\n",
    "\n",
    "Y el vecto $\\vec{b}$ es de la forma:\n",
    "        $$b_{i}=\\frac{1}{i}$$"
   ]
  },
  {
   "cell_type": "markdown",
   "metadata": {},
   "source": [
    "Utilice alguno de los métodos para obtener la solucion de esta matriz para $N=10$,$N=100$ y $N=1000$."
   ]
  },
  {
   "cell_type": "markdown",
   "metadata": {},
   "source": [
    "Tenemos que la solucion exacta $y_i$ es:\n",
    "            $$\\vec{y}=\\begin{pmatrix}\n",
    "            1 \\\\\n",
    "            0 \\\\\n",
    "            0 \\\\\n",
    "            ... \\\\\n",
    "            0\n",
    "            \\end{pmatrix}$$"
   ]
  },
  {
   "cell_type": "markdown",
   "metadata": {},
   "source": [
    "#### Respuesta:\n",
    "\n",
    "Si analizamos un poco la matriz podemos darnos cuenta que los valores de la matriz son simetricos, es decir que si tenemos $a_{ij}$ es lo mismo que $a_{ji}$. Esto se puede notar porque el valor de $a_{ij}$\n",
    "$$a_{ij}=\\frac{1}{i+j-1}$$\n",
    "\n",
    "Dado que los reales son conmutativos da lo mismo sumar $i+j$ que sumar $j+i$. Por lo que si lo reordenamos obtenemos el valor de $a_{ij}$.\n",
    "$$a_{ij}=\\frac{1}{i+j-1}=\\frac{1}{j+i-1}=a_{ji}$$"
   ]
  },
  {
   "cell_type": "markdown",
   "metadata": {},
   "source": [
    "Buscamos el valor tal que esta ecuación $i+j-1$ no sea cero, puesto que en python el indice parte\n",
    "de 0 no de 1. Así que buscamos los valores y desplazamos el indice para evitar que esto ocurra.\n",
    "\n",
    "Entonces tenemos la siguiente desigualdad que debemos cumplir:\n",
    "$$i+j-1>0$$\n",
    "Esto se vuelve cero cuando cuando $i=1$ y $j=0$ o bien $i=0$ y $j=1$. En resumen tenemos que evitar que $i+j=1$ \n",
    "\n",
    "Para hacer esto el valor $l$ debe ser mayor que 1, pero dado que le restamos este uno quedando en cero, entonces tenemos que sumarle dos para que siempre sea 1 o mas, nuestra ecuación quedando:\n",
    "$$i+j-1+2=i+j+1$$"
   ]
  },
  {
   "cell_type": "markdown",
   "metadata": {},
   "source": [
    "Ahora definimos dos funciones, una función que genera la matriz $A$ y otra que genere el vector $\\vec{b}$."
   ]
  },
  {
   "cell_type": "code",
   "execution_count": 79,
   "metadata": {},
   "outputs": [],
   "source": [
    "def matrizA(N):\n",
    "    A=np.zeros((N,N))\n",
    "    for i in range(N):\n",
    "        for j in range(N):\n",
    "            A[i,j]=1/(i+j+1)\n",
    "    return A"
   ]
  },
  {
   "cell_type": "code",
   "execution_count": 80,
   "metadata": {},
   "outputs": [
    {
     "name": "stdout",
     "output_type": "stream",
     "text": [
      "[[ 1.0000  0.5000  0.3333  0.2500  0.2000  0.1667  0.1429  0.1250  0.1111\n",
      "   0.1000]\n",
      " [ 0.5000  0.3333  0.2500  0.2000  0.1667  0.1429  0.1250  0.1111  0.1000\n",
      "   0.0909]\n",
      " [ 0.3333  0.2500  0.2000  0.1667  0.1429  0.1250  0.1111  0.1000  0.0909\n",
      "   0.0833]\n",
      " [ 0.2500  0.2000  0.1667  0.1429  0.1250  0.1111  0.1000  0.0909  0.0833\n",
      "   0.0769]\n",
      " [ 0.2000  0.1667  0.1429  0.1250  0.1111  0.1000  0.0909  0.0833  0.0769\n",
      "   0.0714]\n",
      " [ 0.1667  0.1429  0.1250  0.1111  0.1000  0.0909  0.0833  0.0769  0.0714\n",
      "   0.0667]\n",
      " [ 0.1429  0.1250  0.1111  0.1000  0.0909  0.0833  0.0769  0.0714  0.0667\n",
      "   0.0625]\n",
      " [ 0.1250  0.1111  0.1000  0.0909  0.0833  0.0769  0.0714  0.0667  0.0625\n",
      "   0.0588]\n",
      " [ 0.1111  0.1000  0.0909  0.0833  0.0769  0.0714  0.0667  0.0625  0.0588\n",
      "   0.0556]\n",
      " [ 0.1000  0.0909  0.0833  0.0769  0.0714  0.0667  0.0625  0.0588  0.0556\n",
      "   0.0526]]\n"
     ]
    }
   ],
   "source": [
    "A=matrizA(10)\n",
    "print(A)"
   ]
  },
  {
   "cell_type": "code",
   "execution_count": 66,
   "metadata": {},
   "outputs": [],
   "source": [
    "def vectorB(N):\n",
    "    b=np.zeros(N,dtype=np.double)\n",
    "    for i in range(N):\n",
    "        b[i]=1/(i+1)\n",
    "    return b"
   ]
  },
  {
   "cell_type": "code",
   "execution_count": 88,
   "metadata": {},
   "outputs": [
    {
     "name": "stdout",
     "output_type": "stream",
     "text": [
      "[ 1.0000  0.5000  0.3333  0.2500  0.2000  0.1667  0.1429  0.1250  0.1111\n",
      "  0.1000]\n"
     ]
    }
   ],
   "source": [
    "b=vectorB(10)\n",
    "print(b)"
   ]
  },
  {
   "cell_type": "markdown",
   "metadata": {},
   "source": [
    "Entonces resolvemos el sistema usando el metodo de Doolittle."
   ]
  },
  {
   "cell_type": "markdown",
   "metadata": {},
   "source": [
    "#### Para $N=10$"
   ]
  },
  {
   "cell_type": "code",
   "execution_count": 68,
   "metadata": {},
   "outputs": [],
   "source": [
    "A=matrizA(10)\n",
    "b=vectorB(10)"
   ]
  },
  {
   "cell_type": "code",
   "execution_count": 93,
   "metadata": {},
   "outputs": [
    {
     "name": "stdout",
     "output_type": "stream",
     "text": [
      "[ 1.0000  0.0000  0.0000  0.0000 -0.0000  0.0000 -0.0000  0.0000 -0.0000\n",
      " -0.0000]\n"
     ]
    }
   ],
   "source": [
    "lu, piv = linalg.lu_factor(A)\n",
    "z=linalg.lu_solve((lu,piv),b)\n",
    "print(z)"
   ]
  },
  {
   "cell_type": "markdown",
   "metadata": {},
   "source": [
    "Comparamos ahora el valor obtenido con el valor dado por el enunciado."
   ]
  },
  {
   "cell_type": "code",
   "execution_count": 85,
   "metadata": {},
   "outputs": [
    {
     "name": "stdout",
     "output_type": "stream",
     "text": [
      "[ 1.0000  0.0000  0.0000  0.0000  0.0000  0.0000  0.0000  0.0000  0.0000\n",
      "  0.0000]\n"
     ]
    }
   ],
   "source": [
    "y=np.zeros(10)\n",
    "y[0]=1\n",
    "print(y)"
   ]
  },
  {
   "cell_type": "markdown",
   "metadata": {},
   "source": [
    "Comparamos la respuesta con el Y dado por el enunciado y vemos que:"
   ]
  },
  {
   "cell_type": "code",
   "execution_count": 71,
   "metadata": {},
   "outputs": [
    {
     "name": "stdout",
     "output_type": "stream",
     "text": [
      "[ 0.0000  0.0000  0.0000  0.0000  0.0000  0.0000  0.0000  0.0000  0.0000\n",
      "  0.0000]\n"
     ]
    }
   ],
   "source": [
    "print(y-z)"
   ]
  },
  {
   "cell_type": "markdown",
   "metadata": {},
   "source": [
    "No hay diferencia alguna que sea importante."
   ]
  },
  {
   "cell_type": "markdown",
   "metadata": {},
   "source": [
    "#### Para $N=100$"
   ]
  },
  {
   "cell_type": "code",
   "execution_count": 27,
   "metadata": {},
   "outputs": [],
   "source": [
    "A_2=matrizA(100)\n",
    "b_2=vectorB(100)"
   ]
  },
  {
   "cell_type": "code",
   "execution_count": 31,
   "metadata": {},
   "outputs": [
    {
     "name": "stdout",
     "output_type": "stream",
     "text": [
      "[ 1.0000  0.0000  0.0000  0.0000  0.0000  0.0000  0.0000  0.0000 -0.0000\n",
      " -0.0000 -0.0000  0.0000  0.0000  0.0000 -0.0000  0.0000 -0.0000  0.0000\n",
      "  0.0000  0.0000  0.0000  0.0000  0.0000  0.0000 -0.0000  0.0000 -0.0000\n",
      "  0.0000 -0.0000 -0.0000  0.0000  0.0000 -0.0000  0.0000 -0.0000  0.0000\n",
      " -0.0000 -0.0000 -0.0000  0.0000 -0.0000 -0.0000  0.0000  0.0000 -0.0000\n",
      "  0.0000  0.0000  0.0000  0.0000  0.0000 -0.0000 -0.0000  0.0000 -0.0000\n",
      "  0.0000  0.0000 -0.0000  0.0000  0.0000 -0.0000  0.0000 -0.0000  0.0000\n",
      "  0.0000  0.0000  0.0000  0.0000  0.0000 -0.0000 -0.0000 -0.0000 -0.0000\n",
      "  0.0000 -0.0000  0.0000  0.0000  0.0000 -0.0000 -0.0000  0.0000 -0.0000\n",
      "  0.0000  0.0000 -0.0000 -0.0000 -0.0000  0.0000  0.0000  0.0000  0.0000\n",
      "  0.0000  0.0000  0.0000 -0.0000 -0.0000  0.0000 -0.0000 -0.0000 -0.0000\n",
      " -0.0000]\n"
     ]
    }
   ],
   "source": [
    "lu, piv = linalg.lu_factor(A_2)\n",
    "z_2=linalg.lu_solve((lu,piv),b_2)\n",
    "print(z_2)"
   ]
  },
  {
   "cell_type": "markdown",
   "metadata": {},
   "source": [
    "Nuevamente comparamos el valor obtenido con el valor dado."
   ]
  },
  {
   "cell_type": "code",
   "execution_count": 74,
   "metadata": {},
   "outputs": [
    {
     "name": "stdout",
     "output_type": "stream",
     "text": [
      "[ 0.0000  0.0000  0.0000  0.0000  0.0000  0.0000  0.0000  0.0000  0.0000\n",
      "  0.0000  0.0000  0.0000  0.0000  0.0000  0.0000  0.0000  0.0000  0.0000\n",
      "  0.0000  0.0000  0.0000  0.0000  0.0000  0.0000  0.0000  0.0000  0.0000\n",
      "  0.0000  0.0000  0.0000  0.0000  0.0000  0.0000  0.0000  0.0000  0.0000\n",
      "  0.0000  0.0000  0.0000  0.0000  0.0000  0.0000  0.0000  0.0000  0.0000\n",
      "  0.0000  0.0000  0.0000  0.0000  0.0000  0.0000  0.0000  0.0000  0.0000\n",
      "  0.0000  0.0000  0.0000  0.0000  0.0000  0.0000  0.0000  0.0000  0.0000\n",
      "  0.0000  0.0000  0.0000  0.0000  0.0000  0.0000  0.0000  0.0000  0.0000\n",
      "  0.0000  0.0000  0.0000  0.0000  0.0000  0.0000  0.0000  0.0000  0.0000\n",
      "  0.0000  0.0000  0.0000  0.0000  0.0000  0.0000  0.0000  0.0000  0.0000\n",
      "  0.0000  0.0000  0.0000  0.0000  0.0000  0.0000  0.0000  0.0000  0.0000\n",
      "  0.0000]\n"
     ]
    }
   ],
   "source": [
    "y=np.zeros(100,dtype=np.double)\n",
    "y[0]=1\n",
    "print(y-z_2)"
   ]
  },
  {
   "cell_type": "markdown",
   "metadata": {},
   "source": [
    "Obtenemos lo mismo que en el caso de $N=10$, no hay alguna diferencia importante."
   ]
  },
  {
   "cell_type": "markdown",
   "metadata": {},
   "source": [
    "#### Para $N=1000$"
   ]
  },
  {
   "cell_type": "code",
   "execution_count": 29,
   "metadata": {},
   "outputs": [],
   "source": [
    "A_3=matrizA(1000)\n",
    "b_3=vectorB(1000)"
   ]
  },
  {
   "cell_type": "code",
   "execution_count": 36,
   "metadata": {},
   "outputs": [
    {
     "name": "stdout",
     "output_type": "stream",
     "text": [
      "[ 1.0000  0.0000  0.0000  0.0000  0.0000  0.0000  0.0000  0.0000 -0.0000\n",
      "  0.0000 -0.0000  0.0000  0.0000  0.0000 -0.0000 -0.0000 -0.0000  0.0000\n",
      " -0.0000 -0.0000 -0.0000  0.0000 -0.0000 -0.0000 -0.0000  0.0000  0.0000\n",
      "  0.0000  0.0000  0.0000  0.0000  0.0000 -0.0000  0.0000 -0.0000  0.0000\n",
      "  0.0000  0.0000 -0.0000  0.0000  0.0000  0.0000  0.0000  0.0000 -0.0000\n",
      "  0.0000 -0.0000 -0.0000  0.0000 -0.0000 -0.0000  0.0000  0.0000 -0.0000\n",
      "  0.0000 -0.0000 -0.0000 -0.0000  0.0000  0.0000  0.0000 -0.0000  0.0000\n",
      "  0.0000  0.0000 -0.0000 -0.0000  0.0000  0.0000  0.0000  0.0000 -0.0000\n",
      "  0.0000  0.0000  0.0000 -0.0000  0.0000 -0.0000  0.0000 -0.0000 -0.0000\n",
      "  0.0000 -0.0000 -0.0000 -0.0000 -0.0000  0.0000 -0.0000 -0.0000 -0.0000\n",
      " -0.0000  0.0000  0.0000 -0.0000 -0.0000  0.0000  0.0000  0.0000  0.0000\n",
      "  0.0000  0.0000  0.0000 -0.0000  0.0000 -0.0000 -0.0000 -0.0000  0.0000\n",
      "  0.0000  0.0000 -0.0000  0.0000  0.0000  0.0000 -0.0000 -0.0000  0.0000\n",
      "  0.0000 -0.0000 -0.0000 -0.0000 -0.0000  0.0000 -0.0000  0.0000 -0.0000\n",
      " -0.0000 -0.0000 -0.0000 -0.0000 -0.0000  0.0000  0.0000  0.0000 -0.0000\n",
      "  0.0000 -0.0000 -0.0000  0.0000 -0.0000 -0.0000  0.0000 -0.0000 -0.0000\n",
      " -0.0000 -0.0000 -0.0000 -0.0000 -0.0000  0.0000 -0.0000  0.0000 -0.0000\n",
      "  0.0000  0.0000 -0.0000 -0.0000 -0.0000 -0.0000 -0.0000 -0.0000 -0.0000\n",
      "  0.0000 -0.0000  0.0000  0.0000  0.0000 -0.0000 -0.0000 -0.0000 -0.0000\n",
      "  0.0000 -0.0000  0.0000  0.0000 -0.0000  0.0000  0.0000  0.0000  0.0000\n",
      " -0.0000 -0.0000  0.0000  0.0000 -0.0000  0.0000  0.0000 -0.0000  0.0000\n",
      " -0.0000 -0.0000  0.0000  0.0000  0.0000 -0.0000 -0.0000 -0.0000  0.0000\n",
      "  0.0000 -0.0000  0.0000 -0.0000  0.0000  0.0000  0.0000 -0.0000 -0.0000\n",
      " -0.0000  0.0000  0.0000  0.0000  0.0000 -0.0000 -0.0000  0.0000  0.0000\n",
      " -0.0000 -0.0000  0.0000  0.0000 -0.0000 -0.0000  0.0000  0.0000 -0.0000\n",
      "  0.0000  0.0000 -0.0000  0.0000  0.0000  0.0000  0.0000 -0.0000 -0.0000\n",
      "  0.0000 -0.0000 -0.0000 -0.0000  0.0000 -0.0000  0.0000  0.0000 -0.0000\n",
      " -0.0000 -0.0000 -0.0000 -0.0000  0.0000 -0.0000  0.0000 -0.0000 -0.0000\n",
      " -0.0000  0.0000 -0.0000  0.0000 -0.0000 -0.0000 -0.0000  0.0000  0.0000\n",
      " -0.0000  0.0000  0.0000 -0.0000 -0.0000  0.0000  0.0000  0.0000  0.0000\n",
      " -0.0000  0.0000  0.0000 -0.0000 -0.0000 -0.0000  0.0000 -0.0000 -0.0000\n",
      " -0.0000 -0.0000  0.0000 -0.0000  0.0000  0.0000 -0.0000  0.0000 -0.0000\n",
      " -0.0000  0.0000  0.0000  0.0000  0.0000 -0.0000  0.0000 -0.0000  0.0000\n",
      "  0.0000 -0.0000 -0.0000 -0.0000  0.0000 -0.0000 -0.0000  0.0000  0.0000\n",
      " -0.0000 -0.0000  0.0000 -0.0000  0.0000 -0.0000 -0.0000 -0.0000  0.0000\n",
      "  0.0000 -0.0000  0.0000 -0.0000  0.0000  0.0000  0.0000 -0.0000  0.0000\n",
      "  0.0000  0.0000 -0.0000 -0.0000 -0.0000  0.0000 -0.0000  0.0000  0.0000\n",
      " -0.0000  0.0000 -0.0000  0.0000  0.0000  0.0000 -0.0000 -0.0000 -0.0000\n",
      " -0.0000 -0.0000  0.0000 -0.0000  0.0000 -0.0000 -0.0000 -0.0000  0.0000\n",
      "  0.0000  0.0000  0.0000  0.0000  0.0000 -0.0000  0.0000 -0.0000 -0.0000\n",
      " -0.0000  0.0000 -0.0000 -0.0000  0.0000 -0.0000 -0.0000 -0.0000 -0.0000\n",
      " -0.0000  0.0000  0.0000 -0.0000 -0.0000 -0.0000  0.0000 -0.0000 -0.0000\n",
      "  0.0000  0.0000 -0.0000  0.0000 -0.0000  0.0000 -0.0000 -0.0000 -0.0000\n",
      "  0.0000  0.0000  0.0000  0.0000  0.0000 -0.0000  0.0000 -0.0000 -0.0000\n",
      " -0.0000 -0.0000 -0.0000  0.0000 -0.0000  0.0000 -0.0000  0.0000 -0.0000\n",
      "  0.0000  0.0000 -0.0000  0.0000  0.0000 -0.0000  0.0000 -0.0000 -0.0000\n",
      "  0.0000 -0.0000  0.0000  0.0000 -0.0000  0.0000 -0.0000 -0.0000  0.0000\n",
      " -0.0000 -0.0000 -0.0000  0.0000 -0.0000  0.0000 -0.0000  0.0000 -0.0000\n",
      " -0.0000  0.0000 -0.0000 -0.0000 -0.0000  0.0000  0.0000 -0.0000  0.0000\n",
      "  0.0000 -0.0000 -0.0000 -0.0000  0.0000  0.0000 -0.0000  0.0000 -0.0000\n",
      " -0.0000 -0.0000 -0.0000  0.0000  0.0000  0.0000 -0.0000  0.0000  0.0000\n",
      " -0.0000 -0.0000 -0.0000 -0.0000  0.0000  0.0000 -0.0000  0.0000 -0.0000\n",
      " -0.0000 -0.0000  0.0000  0.0000  0.0000  0.0000  0.0000 -0.0000  0.0000\n",
      "  0.0000  0.0000 -0.0000 -0.0000  0.0000 -0.0000 -0.0000  0.0000 -0.0000\n",
      "  0.0000 -0.0000  0.0000 -0.0000 -0.0000 -0.0000 -0.0000  0.0000  0.0000\n",
      " -0.0000  0.0000 -0.0000 -0.0000  0.0000  0.0000 -0.0000  0.0000  0.0000\n",
      "  0.0000 -0.0000 -0.0000 -0.0000  0.0000  0.0000  0.0000 -0.0000  0.0000\n",
      "  0.0000  0.0000 -0.0000 -0.0000  0.0000 -0.0000  0.0000 -0.0000 -0.0000\n",
      " -0.0000 -0.0000 -0.0000 -0.0000  0.0000 -0.0000 -0.0000  0.0000  0.0000\n",
      " -0.0000 -0.0000  0.0000 -0.0000  0.0000 -0.0000 -0.0000  0.0000  0.0000\n",
      "  0.0000 -0.0000 -0.0000 -0.0000 -0.0000  0.0000 -0.0000 -0.0000  0.0000\n",
      " -0.0000 -0.0000 -0.0000  0.0000  0.0000 -0.0000  0.0000 -0.0000 -0.0000\n",
      " -0.0000  0.0000  0.0000  0.0000 -0.0000 -0.0000  0.0000 -0.0000  0.0000\n",
      "  0.0000  0.0000  0.0000  0.0000 -0.0000  0.0000 -0.0000  0.0000 -0.0000\n",
      "  0.0000  0.0000  0.0000  0.0000 -0.0000 -0.0000 -0.0000  0.0000  0.0000\n",
      " -0.0000 -0.0000  0.0000  0.0000 -0.0000  0.0000  0.0000 -0.0000 -0.0000\n",
      "  0.0000  0.0000 -0.0000  0.0000  0.0000  0.0000  0.0000  0.0000 -0.0000\n",
      " -0.0000 -0.0000 -0.0000  0.0000 -0.0000 -0.0000 -0.0000 -0.0000 -0.0000\n",
      "  0.0000  0.0000  0.0000  0.0000 -0.0000  0.0000  0.0000  0.0000 -0.0000\n",
      " -0.0000 -0.0000  0.0000  0.0000  0.0000 -0.0000  0.0000 -0.0000  0.0000\n",
      "  0.0000 -0.0000  0.0000  0.0000 -0.0000 -0.0000  0.0000  0.0000  0.0000\n",
      " -0.0000  0.0000 -0.0000  0.0000 -0.0000  0.0000 -0.0000 -0.0000 -0.0000\n",
      " -0.0000 -0.0000  0.0000 -0.0000 -0.0000  0.0000 -0.0000 -0.0000 -0.0000\n",
      " -0.0000  0.0000  0.0000 -0.0000 -0.0000  0.0000 -0.0000  0.0000  0.0000\n",
      " -0.0000  0.0000  0.0000 -0.0000  0.0000 -0.0000  0.0000 -0.0000  0.0000\n",
      " -0.0000  0.0000 -0.0000  0.0000 -0.0000  0.0000  0.0000  0.0000 -0.0000\n",
      " -0.0000  0.0000 -0.0000  0.0000  0.0000 -0.0000  0.0000  0.0000 -0.0000\n",
      " -0.0000  0.0000  0.0000 -0.0000 -0.0000 -0.0000 -0.0000  0.0000 -0.0000\n",
      " -0.0000 -0.0000  0.0000 -0.0000 -0.0000 -0.0000  0.0000  0.0000  0.0000\n",
      " -0.0000  0.0000  0.0000  0.0000  0.0000  0.0000 -0.0000  0.0000 -0.0000\n",
      "  0.0000 -0.0000 -0.0000 -0.0000  0.0000 -0.0000 -0.0000 -0.0000  0.0000\n",
      "  0.0000 -0.0000 -0.0000 -0.0000  0.0000  0.0000  0.0000  0.0000 -0.0000\n",
      " -0.0000 -0.0000 -0.0000 -0.0000 -0.0000 -0.0000 -0.0000  0.0000  0.0000\n",
      "  0.0000 -0.0000 -0.0000 -0.0000  0.0000  0.0000 -0.0000  0.0000  0.0000\n",
      " -0.0000  0.0000 -0.0000 -0.0000 -0.0000  0.0000  0.0000 -0.0000  0.0000\n",
      " -0.0000 -0.0000  0.0000 -0.0000  0.0000  0.0000  0.0000  0.0000 -0.0000\n",
      "  0.0000 -0.0000 -0.0000 -0.0000  0.0000  0.0000 -0.0000  0.0000 -0.0000\n",
      " -0.0000 -0.0000  0.0000  0.0000 -0.0000 -0.0000  0.0000  0.0000 -0.0000\n",
      "  0.0000  0.0000  0.0000  0.0000 -0.0000  0.0000  0.0000 -0.0000 -0.0000\n",
      " -0.0000  0.0000  0.0000  0.0000 -0.0000 -0.0000  0.0000  0.0000  0.0000\n",
      "  0.0000 -0.0000  0.0000 -0.0000 -0.0000 -0.0000  0.0000 -0.0000 -0.0000\n",
      " -0.0000  0.0000 -0.0000 -0.0000  0.0000  0.0000  0.0000  0.0000  0.0000\n",
      " -0.0000 -0.0000 -0.0000  0.0000 -0.0000 -0.0000  0.0000 -0.0000  0.0000\n",
      "  0.0000  0.0000 -0.0000 -0.0000  0.0000  0.0000 -0.0000  0.0000  0.0000\n",
      " -0.0000  0.0000 -0.0000  0.0000 -0.0000 -0.0000 -0.0000 -0.0000 -0.0000\n",
      "  0.0000  0.0000 -0.0000 -0.0000  0.0000  0.0000 -0.0000  0.0000  0.0000\n",
      "  0.0000 -0.0000  0.0000 -0.0000  0.0000  0.0000  0.0000  0.0000 -0.0000\n",
      "  0.0000  0.0000 -0.0000 -0.0000  0.0000  0.0000 -0.0000 -0.0000  0.0000\n",
      " -0.0000 -0.0000 -0.0000 -0.0000  0.0000  0.0000 -0.0000 -0.0000 -0.0000\n",
      "  0.0000 -0.0000  0.0000  0.0000  0.0000  0.0000 -0.0000  0.0000 -0.0000\n",
      " -0.0000  0.0000  0.0000 -0.0000 -0.0000 -0.0000 -0.0000  0.0000  0.0000\n",
      " -0.0000 -0.0000 -0.0000  0.0000  0.0000 -0.0000 -0.0000 -0.0000 -0.0000\n",
      " -0.0000 -0.0000  0.0000  0.0000  0.0000  0.0000  0.0000 -0.0000 -0.0000\n",
      " -0.0000 -0.0000 -0.0000 -0.0000 -0.0000  0.0000 -0.0000  0.0000 -0.0000\n",
      " -0.0000  0.0000 -0.0000 -0.0000 -0.0000 -0.0000 -0.0000  0.0000  0.0000\n",
      " -0.0000  0.0000  0.0000 -0.0000  0.0000  0.0000  0.0000 -0.0000 -0.0000\n",
      " -0.0000 -0.0000  0.0000 -0.0000 -0.0000  0.0000  0.0000 -0.0000 -0.0000\n",
      " -0.0000 -0.0000  0.0000  0.0000  0.0000  0.0000 -0.0000  0.0000 -0.0000\n",
      "  0.0000  0.0000  0.0000 -0.0000 -0.0000 -0.0000 -0.0000  0.0000 -0.0000\n",
      "  0.0000  0.0000  0.0000  0.0000  0.0000  0.0000 -0.0000  0.0000  0.0000\n",
      "  0.0000  0.0000  0.0000 -0.0000 -0.0000  0.0000 -0.0000 -0.0000  0.0000\n",
      " -0.0000]\n"
     ]
    }
   ],
   "source": [
    "lu, piv = linalg.lu_factor(A_3)\n",
    "z_3=linalg.lu_solve((lu,piv),b_3)\n",
    "print(z_3)"
   ]
  },
  {
   "cell_type": "markdown",
   "metadata": {},
   "source": [
    "Comparamos con el valor dado y obtenemos que:"
   ]
  },
  {
   "cell_type": "code",
   "execution_count": 81,
   "metadata": {},
   "outputs": [
    {
     "name": "stdout",
     "output_type": "stream",
     "text": [
      "[ 0.0000  0.0000  0.0000  0.0000  0.0000  0.0000  0.0000  0.0000  0.0000\n",
      "  0.0000  0.0000  0.0000  0.0000  0.0000  0.0000  0.0000  0.0000  0.0000\n",
      "  0.0000  0.0000  0.0000  0.0000  0.0000  0.0000  0.0000  0.0000  0.0000\n",
      "  0.0000  0.0000  0.0000  0.0000  0.0000  0.0000  0.0000  0.0000  0.0000\n",
      "  0.0000  0.0000  0.0000  0.0000  0.0000  0.0000  0.0000  0.0000  0.0000\n",
      "  0.0000  0.0000  0.0000  0.0000  0.0000  0.0000  0.0000  0.0000  0.0000\n",
      "  0.0000  0.0000  0.0000  0.0000  0.0000  0.0000  0.0000  0.0000  0.0000\n",
      "  0.0000  0.0000  0.0000  0.0000  0.0000  0.0000  0.0000  0.0000  0.0000\n",
      "  0.0000  0.0000  0.0000  0.0000  0.0000  0.0000  0.0000  0.0000  0.0000\n",
      "  0.0000  0.0000  0.0000  0.0000  0.0000  0.0000  0.0000  0.0000  0.0000\n",
      "  0.0000  0.0000  0.0000  0.0000  0.0000  0.0000  0.0000  0.0000  0.0000\n",
      "  0.0000  0.0000  0.0000  0.0000  0.0000  0.0000  0.0000  0.0000  0.0000\n",
      "  0.0000  0.0000  0.0000  0.0000  0.0000  0.0000  0.0000  0.0000  0.0000\n",
      "  0.0000  0.0000  0.0000  0.0000  0.0000  0.0000  0.0000  0.0000  0.0000\n",
      "  0.0000  0.0000  0.0000  0.0000  0.0000  0.0000  0.0000  0.0000  0.0000\n",
      "  0.0000  0.0000  0.0000  0.0000  0.0000  0.0000  0.0000  0.0000  0.0000\n",
      "  0.0000  0.0000  0.0000  0.0000  0.0000  0.0000  0.0000  0.0000  0.0000\n",
      "  0.0000  0.0000  0.0000  0.0000  0.0000  0.0000  0.0000  0.0000  0.0000\n",
      "  0.0000  0.0000  0.0000  0.0000  0.0000  0.0000  0.0000  0.0000  0.0000\n",
      "  0.0000  0.0000  0.0000  0.0000  0.0000  0.0000  0.0000  0.0000  0.0000\n",
      "  0.0000  0.0000  0.0000  0.0000  0.0000  0.0000  0.0000  0.0000  0.0000\n",
      "  0.0000  0.0000  0.0000  0.0000  0.0000  0.0000  0.0000  0.0000  0.0000\n",
      "  0.0000  0.0000  0.0000  0.0000  0.0000  0.0000  0.0000  0.0000  0.0000\n",
      "  0.0000  0.0000  0.0000  0.0000  0.0000  0.0000  0.0000  0.0000  0.0000\n",
      "  0.0000  0.0000  0.0000  0.0000  0.0000  0.0000  0.0000  0.0000  0.0000\n",
      "  0.0000  0.0000  0.0000  0.0000  0.0000  0.0000  0.0000  0.0000  0.0000\n",
      "  0.0000  0.0000  0.0000  0.0000  0.0000  0.0000  0.0000  0.0000  0.0000\n",
      "  0.0000  0.0000  0.0000  0.0000  0.0000  0.0000  0.0000  0.0000  0.0000\n",
      "  0.0000  0.0000  0.0000  0.0000  0.0000  0.0000  0.0000  0.0000  0.0000\n",
      "  0.0000  0.0000  0.0000  0.0000  0.0000  0.0000  0.0000  0.0000  0.0000\n",
      "  0.0000  0.0000  0.0000  0.0000  0.0000  0.0000  0.0000  0.0000  0.0000\n",
      "  0.0000  0.0000  0.0000  0.0000  0.0000  0.0000  0.0000  0.0000  0.0000\n",
      "  0.0000  0.0000  0.0000  0.0000  0.0000  0.0000  0.0000  0.0000  0.0000\n",
      "  0.0000  0.0000  0.0000  0.0000  0.0000  0.0000  0.0000  0.0000  0.0000\n",
      "  0.0000  0.0000  0.0000  0.0000  0.0000  0.0000  0.0000  0.0000  0.0000\n",
      "  0.0000  0.0000  0.0000  0.0000  0.0000  0.0000  0.0000  0.0000  0.0000\n",
      "  0.0000  0.0000  0.0000  0.0000  0.0000  0.0000  0.0000  0.0000  0.0000\n",
      "  0.0000  0.0000  0.0000  0.0000  0.0000  0.0000  0.0000  0.0000  0.0000\n",
      "  0.0000  0.0000  0.0000  0.0000  0.0000  0.0000  0.0000  0.0000  0.0000\n",
      "  0.0000  0.0000  0.0000  0.0000  0.0000  0.0000  0.0000  0.0000  0.0000\n",
      "  0.0000  0.0000  0.0000  0.0000  0.0000  0.0000  0.0000  0.0000  0.0000\n",
      "  0.0000  0.0000  0.0000  0.0000  0.0000  0.0000  0.0000  0.0000  0.0000\n",
      "  0.0000  0.0000  0.0000  0.0000  0.0000  0.0000  0.0000  0.0000  0.0000\n",
      "  0.0000  0.0000  0.0000  0.0000  0.0000  0.0000  0.0000  0.0000  0.0000\n",
      "  0.0000  0.0000  0.0000  0.0000  0.0000  0.0000  0.0000  0.0000  0.0000\n",
      "  0.0000  0.0000  0.0000  0.0000  0.0000  0.0000  0.0000  0.0000  0.0000\n",
      "  0.0000  0.0000  0.0000  0.0000  0.0000  0.0000  0.0000  0.0000  0.0000\n",
      "  0.0000  0.0000  0.0000  0.0000  0.0000  0.0000  0.0000  0.0000  0.0000\n",
      "  0.0000  0.0000  0.0000  0.0000  0.0000  0.0000  0.0000  0.0000  0.0000\n",
      "  0.0000  0.0000  0.0000  0.0000  0.0000  0.0000  0.0000  0.0000  0.0000\n",
      "  0.0000  0.0000  0.0000  0.0000  0.0000  0.0000  0.0000  0.0000  0.0000\n",
      "  0.0000  0.0000  0.0000  0.0000  0.0000  0.0000  0.0000  0.0000  0.0000\n",
      "  0.0000  0.0000  0.0000  0.0000  0.0000  0.0000  0.0000  0.0000  0.0000\n",
      "  0.0000  0.0000  0.0000  0.0000  0.0000  0.0000  0.0000  0.0000  0.0000\n",
      "  0.0000  0.0000  0.0000  0.0000  0.0000  0.0000  0.0000  0.0000  0.0000\n",
      "  0.0000  0.0000  0.0000  0.0000  0.0000  0.0000  0.0000  0.0000  0.0000\n",
      "  0.0000  0.0000  0.0000  0.0000  0.0000  0.0000  0.0000  0.0000  0.0000\n",
      "  0.0000  0.0000  0.0000  0.0000  0.0000  0.0000  0.0000  0.0000  0.0000\n",
      "  0.0000  0.0000  0.0000  0.0000  0.0000  0.0000  0.0000  0.0000  0.0000\n",
      "  0.0000  0.0000  0.0000  0.0000  0.0000  0.0000  0.0000  0.0000  0.0000\n",
      "  0.0000  0.0000  0.0000  0.0000  0.0000  0.0000  0.0000  0.0000  0.0000\n",
      "  0.0000  0.0000  0.0000  0.0000  0.0000  0.0000  0.0000  0.0000  0.0000\n",
      "  0.0000  0.0000  0.0000  0.0000  0.0000  0.0000  0.0000  0.0000  0.0000\n",
      "  0.0000  0.0000  0.0000  0.0000  0.0000  0.0000  0.0000  0.0000  0.0000\n",
      "  0.0000  0.0000  0.0000  0.0000  0.0000  0.0000  0.0000  0.0000  0.0000\n",
      "  0.0000  0.0000  0.0000  0.0000  0.0000  0.0000  0.0000  0.0000  0.0000\n",
      "  0.0000  0.0000  0.0000  0.0000  0.0000  0.0000  0.0000  0.0000  0.0000\n",
      "  0.0000  0.0000  0.0000  0.0000  0.0000  0.0000  0.0000  0.0000  0.0000\n",
      "  0.0000  0.0000  0.0000  0.0000  0.0000  0.0000  0.0000  0.0000  0.0000\n",
      "  0.0000  0.0000  0.0000  0.0000  0.0000  0.0000  0.0000  0.0000  0.0000\n",
      "  0.0000  0.0000  0.0000  0.0000  0.0000  0.0000  0.0000  0.0000  0.0000\n",
      "  0.0000  0.0000  0.0000  0.0000  0.0000  0.0000  0.0000  0.0000  0.0000\n",
      "  0.0000  0.0000  0.0000  0.0000  0.0000  0.0000  0.0000  0.0000  0.0000\n",
      "  0.0000  0.0000  0.0000  0.0000  0.0000  0.0000  0.0000  0.0000  0.0000\n",
      "  0.0000  0.0000  0.0000  0.0000  0.0000  0.0000  0.0000  0.0000  0.0000\n",
      "  0.0000  0.0000  0.0000  0.0000  0.0000  0.0000  0.0000  0.0000  0.0000\n",
      "  0.0000  0.0000  0.0000  0.0000  0.0000  0.0000  0.0000  0.0000  0.0000\n",
      "  0.0000  0.0000  0.0000  0.0000  0.0000  0.0000  0.0000  0.0000  0.0000\n",
      "  0.0000  0.0000  0.0000  0.0000  0.0000  0.0000  0.0000  0.0000  0.0000\n",
      "  0.0000  0.0000  0.0000  0.0000  0.0000  0.0000  0.0000  0.0000  0.0000\n",
      "  0.0000  0.0000  0.0000  0.0000  0.0000  0.0000  0.0000  0.0000  0.0000\n",
      "  0.0000  0.0000  0.0000  0.0000  0.0000  0.0000  0.0000  0.0000  0.0000\n",
      "  0.0000  0.0000  0.0000  0.0000  0.0000  0.0000  0.0000  0.0000  0.0000\n",
      "  0.0000  0.0000  0.0000  0.0000  0.0000  0.0000  0.0000  0.0000  0.0000\n",
      "  0.0000  0.0000  0.0000  0.0000  0.0000  0.0000  0.0000  0.0000  0.0000\n",
      "  0.0000  0.0000  0.0000  0.0000  0.0000  0.0000  0.0000  0.0000  0.0000\n",
      "  0.0000  0.0000  0.0000  0.0000  0.0000  0.0000  0.0000  0.0000  0.0000\n",
      "  0.0000  0.0000  0.0000  0.0000  0.0000  0.0000  0.0000  0.0000  0.0000\n",
      "  0.0000  0.0000  0.0000  0.0000  0.0000  0.0000  0.0000  0.0000  0.0000\n",
      "  0.0000  0.0000  0.0000  0.0000  0.0000  0.0000  0.0000  0.0000  0.0000\n",
      "  0.0000  0.0000  0.0000  0.0000  0.0000  0.0000  0.0000  0.0000  0.0000\n",
      "  0.0000  0.0000  0.0000  0.0000  0.0000  0.0000  0.0000  0.0000  0.0000\n",
      "  0.0000  0.0000  0.0000  0.0000  0.0000  0.0000  0.0000  0.0000  0.0000\n",
      "  0.0000  0.0000  0.0000  0.0000  0.0000  0.0000  0.0000  0.0000  0.0000\n",
      "  0.0000  0.0000  0.0000  0.0000  0.0000  0.0000  0.0000  0.0000  0.0000\n",
      "  0.0000  0.0000  0.0000  0.0000  0.0000  0.0000  0.0000  0.0000  0.0000\n",
      "  0.0000  0.0000  0.0000  0.0000  0.0000  0.0000  0.0000  0.0000  0.0000\n",
      "  0.0000  0.0000  0.0000  0.0000  0.0000  0.0000  0.0000  0.0000  0.0000\n",
      "  0.0000  0.0000  0.0000  0.0000  0.0000  0.0000  0.0000  0.0000  0.0000\n",
      "  0.0000  0.0000  0.0000  0.0000  0.0000  0.0000  0.0000  0.0000  0.0000\n",
      "  0.0000  0.0000  0.0000  0.0000  0.0000  0.0000  0.0000  0.0000  0.0000\n",
      "  0.0000  0.0000  0.0000  0.0000  0.0000  0.0000  0.0000  0.0000  0.0000\n",
      "  0.0000  0.0000  0.0000  0.0000  0.0000  0.0000  0.0000  0.0000  0.0000\n",
      "  0.0000  0.0000  0.0000  0.0000  0.0000  0.0000  0.0000  0.0000  0.0000\n",
      "  0.0000  0.0000  0.0000  0.0000  0.0000  0.0000  0.0000  0.0000  0.0000\n",
      "  0.0000  0.0000  0.0000  0.0000  0.0000  0.0000  0.0000  0.0000  0.0000\n",
      "  0.0000  0.0000  0.0000  0.0000  0.0000  0.0000  0.0000  0.0000  0.0000\n",
      "  0.0000  0.0000  0.0000  0.0000  0.0000  0.0000  0.0000  0.0000  0.0000\n",
      "  0.0000  0.0000  0.0000  0.0000  0.0000  0.0000  0.0000  0.0000  0.0000\n",
      "  0.0000  0.0000  0.0000  0.0000  0.0000  0.0000  0.0000  0.0000  0.0000\n",
      "  0.0000  0.0000  0.0000  0.0000  0.0000  0.0000  0.0000  0.0000  0.0000\n",
      "  0.0000]\n"
     ]
    }
   ],
   "source": [
    "y=np.zeros(1000)\n",
    "y[0]=1\n",
    "print(y-z_3)"
   ]
  },
  {
   "cell_type": "markdown",
   "metadata": {},
   "source": [
    "En ninguno de los casos hay diferencias entre la respuesta dada y la respuesta obtenida por el metodo de Doolittle."
   ]
  }
 ],
 "metadata": {
  "kernelspec": {
   "display_name": "Python 3",
   "language": "python",
   "name": "python3"
  },
  "language_info": {
   "codemirror_mode": {
    "name": "ipython",
    "version": 3
   },
   "file_extension": ".py",
   "mimetype": "text/x-python",
   "name": "python",
   "nbconvert_exporter": "python",
   "pygments_lexer": "ipython3",
   "version": "3.7.1"
  }
 },
 "nbformat": 4,
 "nbformat_minor": 2
}
