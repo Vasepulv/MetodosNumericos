{
 "cells": [
  {
   "cell_type": "markdown",
   "metadata": {},
   "source": [
    "# Clase 08 - Sistemas de ecuaciones lineales"
   ]
  },
  {
   "cell_type": "code",
   "execution_count": 1,
   "metadata": {},
   "outputs": [],
   "source": [
    "import numpy as np\n",
    "from matplotlib import pyplot as plt\n",
    "from scipy import linalg"
   ]
  },
  {
   "cell_type": "code",
   "execution_count": 2,
   "metadata": {},
   "outputs": [],
   "source": [
    "plt.style.use('seaborn-poster')\n",
    "\n",
    "#formato de impresión de los números en los arreglos de Numpy\n",
    "np.set_printoptions(formatter={'float': '{: .4f}'.format})"
   ]
  },
  {
   "cell_type": "markdown",
   "metadata": {},
   "source": [
    "### Eliminación de Gauss"
   ]
  },
  {
   "cell_type": "markdown",
   "metadata": {},
   "source": [
    "Este algoritmo de eliminación de Gauss usa la matriz aumentada y regresa la matriz triangular superior, el vector $\\vec{b}$ modificado y el vector solución $\\vec{x}$.  \n",
    "\n",
    "Para eliminar los coeficientes bajo la fila $k$ con $k=1,2,\\ldots,n-1$ hacemos\n",
    "\n",
    "\\begin{equation*}\n",
    "\\begin{aligned} \n",
    "A_{i j} & \\leftarrow A_{i j}-\\lambda A_{k j}, \\quad j=k, k+1, \\ldots, n \\\\ \n",
    "b_{i} & \\leftarrow b_{i}-\\lambda b_{k} \n",
    "\\end{aligned}\n",
    "\\end{equation*}\n",
    "\n",
    "donde $\\lambda = A_{ik}/A_{kk}$. Si $A_{ik}$ es cero, no se realiza la transformación de la fila $i$."
   ]
  },
  {
   "cell_type": "code",
   "execution_count": 3,
   "metadata": {},
   "outputs": [],
   "source": [
    "def Gauss(A, b):\n",
    "    n = len(b)\n",
    "    Aug = np.concatenate((A,b.reshape(n,1)),axis=1)\n",
    "    print (Aug)\n",
    "    for k in range(n):\n",
    "        for i in range(k+1,n):\n",
    "            if Aug[i,k] != 0.0:\n",
    "                lam = Aug[i,k]/Aug[k,k]\n",
    "                print (i,k,lam)\n",
    "                Aug[i,:] = Aug[i,:] - lam*Aug[k,:]\n",
    "                print (Aug)\n",
    "            \n",
    "    x = np.zeros(n)\n",
    "    for k in range(n-1,-1,-1):\n",
    "        x[k] = (Aug[k,-1] - np.dot(Aug[k,k+1:n],x[k+1:n]))/Aug[k,k]\n",
    "        \n",
    "    return (Aug[:,:-1],Aug[:,-1],x)"
   ]
  },
  {
   "cell_type": "markdown",
   "metadata": {},
   "source": [
    "Resolvamos el sistema de ecuaciones \n",
    "\n",
    "\\begin{equation*}\n",
    "\\begin{aligned} \n",
    "4 x_{1}-2 x_{2}+x_{3} &=11 \\\\\n",
    "-2 x_{1}+4 x_{2}-2 x_{3} &=-16 \\\\ \n",
    "x_{1}-2 x_{2}+4 x_{3} &=17 \n",
    "\\end{aligned}\n",
    "\\end{equation*}"
   ]
  },
  {
   "cell_type": "code",
   "execution_count": 4,
   "metadata": {},
   "outputs": [
    {
     "name": "stdout",
     "output_type": "stream",
     "text": [
      "[[ 4.0000 -2.0000  1.0000  11.0000]\n",
      " [-2.0000  4.0000 -2.0000 -16.0000]\n",
      " [ 1.0000 -2.0000  4.0000  17.0000]]\n",
      "1 0 -0.5\n",
      "[[ 4.0000 -2.0000  1.0000  11.0000]\n",
      " [ 0.0000  3.0000 -1.5000 -10.5000]\n",
      " [ 1.0000 -2.0000  4.0000  17.0000]]\n",
      "2 0 0.25\n",
      "[[ 4.0000 -2.0000  1.0000  11.0000]\n",
      " [ 0.0000  3.0000 -1.5000 -10.5000]\n",
      " [ 0.0000 -1.5000  3.7500  14.2500]]\n",
      "2 1 -0.5\n",
      "[[ 4.0000 -2.0000  1.0000  11.0000]\n",
      " [ 0.0000  3.0000 -1.5000 -10.5000]\n",
      " [ 0.0000  0.0000  3.0000  9.0000]]\n"
     ]
    }
   ],
   "source": [
    "A = np.array([[4,-2,1],[-2,4,-2],[1,-2,4]],dtype=np.double)\n",
    "b = np.array([11,-16,17],dtype=np.double)\n",
    "(U1,b1,x1) = Gauss(A,b)"
   ]
  },
  {
   "cell_type": "code",
   "execution_count": 5,
   "metadata": {},
   "outputs": [
    {
     "name": "stdout",
     "output_type": "stream",
     "text": [
      "El vector solución es = [ 1.0000 -2.0000  3.0000]\n"
     ]
    }
   ],
   "source": [
    "print ('El vector solución es =',x1)"
   ]
  },
  {
   "cell_type": "code",
   "execution_count": 6,
   "metadata": {},
   "outputs": [
    {
     "name": "stdout",
     "output_type": "stream",
     "text": [
      "La matriz U es \n",
      " [[ 4.0000 -2.0000  1.0000]\n",
      " [ 0.0000  3.0000 -1.5000]\n",
      " [ 0.0000  0.0000  3.0000]]\n"
     ]
    }
   ],
   "source": [
    "print ('La matriz U es \\n',U1)"
   ]
  },
  {
   "cell_type": "code",
   "execution_count": 7,
   "metadata": {},
   "outputs": [
    {
     "name": "stdout",
     "output_type": "stream",
     "text": [
      "[ 0.0000  0.0000  0.0000]\n"
     ]
    }
   ],
   "source": [
    "# Verificamos la solución\n",
    "print (np.dot(A,x1)-b)"
   ]
  },
  {
   "cell_type": "markdown",
   "metadata": {},
   "source": [
    "Ahora resolvamos el sistema de ecuaciones $A\\vec{x}=\\vec{b}$ con\n",
    "\n",
    "\\begin{equation*}\n",
    "\\mathbf{A}=\\left[\\begin{array}{rrrr}\n",
    "1.44 & -0.36 & 5.52 & 0.00 \\\\ \n",
    "-0.36 & 10.33 & -7.78 & 0.00 \\\\ \n",
    "5.52 & -7.78 & 28.40 & 9.00 \\\\ \n",
    "0.00 & 0.00 & 9.00 & 61.00\n",
    "\\end{array}\\right] \\quad \n",
    "\\mathbf{b}=\\left[\\begin{array}{r}\n",
    "0.04 \\\\ \n",
    "-2.15 \\\\ \n",
    "0 \\\\ \n",
    "0.88\n",
    "\\end{array}\\right]\n",
    "\\end{equation*}"
   ]
  },
  {
   "cell_type": "code",
   "execution_count": 8,
   "metadata": {},
   "outputs": [],
   "source": [
    "A = np.array([[ 1.44, -0.36, 5.52, 0.0], [-0.36, 10.33, -7.78, 0.0],\n",
    "              [ 5.52, -7.78, 28.40, 9.0], [ 0.0, 0.0, 9.0, 61.0]]) \n",
    "b = np.array([0.04, -2.15, 0.0, 0.88])"
   ]
  },
  {
   "cell_type": "code",
   "execution_count": 9,
   "metadata": {},
   "outputs": [
    {
     "name": "stdout",
     "output_type": "stream",
     "text": [
      "[[ 1.4400 -0.3600  5.5200  0.0000  0.0400]\n",
      " [-0.3600  10.3300 -7.7800  0.0000 -2.1500]\n",
      " [ 5.5200 -7.7800  28.4000  9.0000  0.0000]\n",
      " [ 0.0000  0.0000  9.0000  61.0000  0.8800]]\n",
      "1 0 -0.25\n",
      "[[ 1.4400 -0.3600  5.5200  0.0000  0.0400]\n",
      " [ 0.0000  10.2400 -6.4000  0.0000 -2.1400]\n",
      " [ 5.5200 -7.7800  28.4000  9.0000  0.0000]\n",
      " [ 0.0000  0.0000  9.0000  61.0000  0.8800]]\n",
      "2 0 3.833333333333333\n",
      "[[ 1.4400 -0.3600  5.5200  0.0000  0.0400]\n",
      " [ 0.0000  10.2400 -6.4000  0.0000 -2.1400]\n",
      " [ 0.0000 -6.4000  7.2400  9.0000 -0.1533]\n",
      " [ 0.0000  0.0000  9.0000  61.0000  0.8800]]\n",
      "2 1 -0.625\n",
      "[[ 1.4400 -0.3600  5.5200  0.0000  0.0400]\n",
      " [ 0.0000  10.2400 -6.4000  0.0000 -2.1400]\n",
      " [ 0.0000  0.0000  3.2400  9.0000 -1.4908]\n",
      " [ 0.0000  0.0000  9.0000  61.0000  0.8800]]\n",
      "3 2 2.777777777777776\n",
      "[[ 1.4400 -0.3600  5.5200  0.0000  0.0400]\n",
      " [ 0.0000  10.2400 -6.4000  0.0000 -2.1400]\n",
      " [ 0.0000  0.0000  3.2400  9.0000 -1.4908]\n",
      " [ 0.0000  0.0000  0.0000  36.0000  5.0212]]\n"
     ]
    }
   ],
   "source": [
    "(U2,b2,x2) = Gauss(A,b)"
   ]
  },
  {
   "cell_type": "code",
   "execution_count": 10,
   "metadata": {},
   "outputs": [
    {
     "name": "stdout",
     "output_type": "stream",
     "text": [
      "El vector solución es = [ 3.0921 -0.7387 -0.8476  0.1395]\n"
     ]
    }
   ],
   "source": [
    "print ('El vector solución es =',x2)"
   ]
  },
  {
   "cell_type": "code",
   "execution_count": 11,
   "metadata": {},
   "outputs": [
    {
     "name": "stdout",
     "output_type": "stream",
     "text": [
      "La matriz U es \n",
      " [[ 1.4400 -0.3600  5.5200  0.0000]\n",
      " [ 0.0000  10.2400 -6.4000  0.0000]\n",
      " [ 0.0000  0.0000  3.2400  9.0000]\n",
      " [ 0.0000  0.0000  0.0000  36.0000]]\n"
     ]
    }
   ],
   "source": [
    "print ('La matriz U es \\n',U2)"
   ]
  },
  {
   "cell_type": "code",
   "execution_count": 12,
   "metadata": {},
   "outputs": [
    {
     "name": "stdout",
     "output_type": "stream",
     "text": [
      "[ 0.0000  0.0000  0.0000 -0.0000]\n"
     ]
    }
   ],
   "source": [
    "# Verifiquemos la solución\n",
    "print (np.dot(A,x2)-b)"
   ]
  },
  {
   "cell_type": "markdown",
   "metadata": {},
   "source": [
    "Resolvamos este sistema de ecuaciones usando las rutinas solve de $\\textit{Numpy}$ y $\\textit{Scipy}$"
   ]
  },
  {
   "cell_type": "code",
   "execution_count": 13,
   "metadata": {},
   "outputs": [
    {
     "name": "stdout",
     "output_type": "stream",
     "text": [
      "El vector solución es = [ 3.0921 -0.7387 -0.8476  0.1395]\n"
     ]
    }
   ],
   "source": [
    "print ('El vector solución es =',np.linalg.solve(A,b))"
   ]
  },
  {
   "cell_type": "code",
   "execution_count": 14,
   "metadata": {},
   "outputs": [
    {
     "name": "stdout",
     "output_type": "stream",
     "text": [
      "El vector solución es = [ 3.0921 -0.7387 -0.8476  0.1395]\n"
     ]
    }
   ],
   "source": [
    "print ('El vector solución es =',linalg.solve(A,b))"
   ]
  },
  {
   "cell_type": "markdown",
   "metadata": {},
   "source": [
    "### Eliminación de Gauss con pivote"
   ]
  },
  {
   "cell_type": "markdown",
   "metadata": {},
   "source": [
    "Resolvamos el sistema de ecuacines $A\\vec{x}=\\vec{b}$ con\n",
    "\n",
    "\\begin{equation*}\n",
    "\\mathbf{A}=\\left[\\begin{array}{rrr}\n",
    "1 & 1 & 1 \\\\\n",
    "0 & 0 & 2 \\\\\n",
    "0 & 1 & 1\n",
    "\\end{array}\\right] \n",
    "\\quad \n",
    "\\mathbf{b}=\\left[\\begin{array}{r}\n",
    "1 \\\\ 1 \\\\ 2\n",
    "\\end{array}\\right]\n",
    "\\end{equation*}"
   ]
  },
  {
   "cell_type": "code",
   "execution_count": 15,
   "metadata": {},
   "outputs": [
    {
     "name": "stdout",
     "output_type": "stream",
     "text": [
      "[[ 1.0000  1.0000  1.0000  1.0000]\n",
      " [ 0.0000  0.0000  2.0000  1.0000]\n",
      " [ 0.0000  1.0000  1.0000  2.0000]]\n",
      "2 1 inf\n",
      "[[ 1.0000  1.0000  1.0000  1.0000]\n",
      " [ 0.0000  0.0000  2.0000  1.0000]\n",
      " [ nan  nan -inf -inf]]\n"
     ]
    },
    {
     "name": "stderr",
     "output_type": "stream",
     "text": [
      "/Users/ameza/opt/anaconda3/lib/python3.7/site-packages/ipykernel_launcher.py:8: RuntimeWarning: divide by zero encountered in double_scalars\n",
      "  \n",
      "/Users/ameza/opt/anaconda3/lib/python3.7/site-packages/ipykernel_launcher.py:10: RuntimeWarning: invalid value encountered in multiply\n",
      "  # Remove the CWD from sys.path while we load stuff.\n",
      "/Users/ameza/opt/anaconda3/lib/python3.7/site-packages/ipykernel_launcher.py:15: RuntimeWarning: invalid value encountered in double_scalars\n",
      "  from ipykernel import kernelapp as app\n"
     ]
    }
   ],
   "source": [
    "E = np.array([[1.0, 1.0, 1.0],[0.0, 0.0, 2.0],[0.0, 1.0, 1.0]])\n",
    "f = np.array([1.0, 1.0, 2.0])\n",
    "(U3,b3,x3) = Gauss(E,f)"
   ]
  },
  {
   "cell_type": "markdown",
   "metadata": {},
   "source": [
    "Para evitar errores con coeficientes nulos o muy pequeños, encontramos la fila $i>k$ con el mayor coeficiente en la columna $k$ e intercambiamos filas. Luego se procede como antes."
   ]
  },
  {
   "cell_type": "code",
   "execution_count": 16,
   "metadata": {},
   "outputs": [],
   "source": [
    "def GaussPivote(A,b):\n",
    "    n = len(b)\n",
    "    Aug = np.concatenate((A,b.reshape(n,1)),axis=1)\n",
    "    print (Aug)\n",
    "    for k in range(n):\n",
    "        max_row = np.argmax(Aug[k:,k])\n",
    "        if (max_row): #max_row es contado relativo a la fila k, es decir, max_row = 0 para k\n",
    "            tmp = np.copy(Aug[k,:])\n",
    "            Aug[k,:] = np.copy(Aug[k+max_row,:])\n",
    "            Aug[k+max_row,:] = np.copy(tmp)\n",
    "        for i in range(k+1,n):\n",
    "            if Aug[i,k] != 0.0:\n",
    "                lam = Aug[i,k]/Aug[k,k]\n",
    "                print (i,k,lam)\n",
    "                Aug[i,:] = Aug[i,:] - lam*Aug[k,:]\n",
    "                print (Aug)\n",
    "        \n",
    "    x = np.zeros(n)\n",
    "    for k in range(n-1,-1,-1):\n",
    "        x[k] = (Aug[k,-1] - np.dot(Aug[k,k+1:n],x[k+1:n]))/Aug[k,k]\n",
    "    \n",
    "    return (Aug[:,:-1],Aug[:,-1],x)"
   ]
  },
  {
   "cell_type": "code",
   "execution_count": 17,
   "metadata": {},
   "outputs": [
    {
     "name": "stdout",
     "output_type": "stream",
     "text": [
      "[[ 1.0000  1.0000  1.0000  1.0000]\n",
      " [ 0.0000  0.0000  2.0000  1.0000]\n",
      " [ 0.0000  1.0000  1.0000  2.0000]]\n"
     ]
    }
   ],
   "source": [
    "(U3,b3,x3) = GaussPivote(E,f)"
   ]
  },
  {
   "cell_type": "code",
   "execution_count": 18,
   "metadata": {},
   "outputs": [
    {
     "name": "stdout",
     "output_type": "stream",
     "text": [
      "El vector solución es = [-1.0000  1.5000  0.5000]\n"
     ]
    }
   ],
   "source": [
    "print ('El vector solución es =',x3)"
   ]
  },
  {
   "cell_type": "code",
   "execution_count": 19,
   "metadata": {},
   "outputs": [
    {
     "name": "stdout",
     "output_type": "stream",
     "text": [
      "La matriz U es \n",
      " [[ 1.0000  1.0000  1.0000]\n",
      " [ 0.0000  1.0000  1.0000]\n",
      " [ 0.0000  0.0000  2.0000]]\n"
     ]
    }
   ],
   "source": [
    "print ('La matriz U es \\n',U3)"
   ]
  },
  {
   "cell_type": "code",
   "execution_count": 20,
   "metadata": {},
   "outputs": [
    {
     "name": "stdout",
     "output_type": "stream",
     "text": [
      "[ 0.0000  0.0000  0.0000]\n"
     ]
    }
   ],
   "source": [
    "# Verifiquemos la solución\n",
    "print (np.dot(E,x3)-f)"
   ]
  },
  {
   "cell_type": "markdown",
   "metadata": {},
   "source": [
    "Ahora volvamos a resolver el sistema de ecuaciones $A\\vec{x}=\\vec{b}$ con\n",
    "\n",
    "\\begin{equation*}\n",
    "\\mathbf{A}=\\left[\\begin{array}{rrrr}\n",
    "1.44 & -0.36 & 5.52 & 0.00 \\\\ \n",
    "-0.36 & 10.33 & -7.78 & 0.00 \\\\ \n",
    "5.52 & -7.78 & 28.40 & 9.00 \\\\ \n",
    "0.00 & 0.00 & 9.00 & 61.00\n",
    "\\end{array}\\right] \\quad \n",
    "\\mathbf{b}=\\left[\\begin{array}{r}\n",
    "0.04 \\\\ \n",
    "-2.15 \\\\ \n",
    "0 \\\\ \n",
    "0.88\n",
    "\\end{array}\\right]\n",
    "\\end{equation*}"
   ]
  },
  {
   "cell_type": "code",
   "execution_count": 21,
   "metadata": {},
   "outputs": [],
   "source": [
    "A = np.array([[ 1.44, -0.36, 5.52, 0.0], [-0.36, 10.33, -7.78, 0.0],\n",
    "              [ 5.52, -7.78, 28.40, 9.0], [ 0.0, 0.0, 9.0, 61.0]]) \n",
    "b = np.array([0.04, -2.15, 0.0, 0.88])"
   ]
  },
  {
   "cell_type": "code",
   "execution_count": 22,
   "metadata": {},
   "outputs": [
    {
     "name": "stdout",
     "output_type": "stream",
     "text": [
      "[[ 1.4400 -0.3600  5.5200  0.0000  0.0400]\n",
      " [-0.3600  10.3300 -7.7800  0.0000 -2.1500]\n",
      " [ 5.5200 -7.7800  28.4000  9.0000  0.0000]\n",
      " [ 0.0000  0.0000  9.0000  61.0000  0.8800]]\n",
      "1 0 -0.06521739130434782\n",
      "[[ 5.5200 -7.7800  28.4000  9.0000  0.0000]\n",
      " [ 0.0000  9.8226 -5.9278  0.5870 -2.1500]\n",
      " [ 1.4400 -0.3600  5.5200  0.0000  0.0400]\n",
      " [ 0.0000  0.0000  9.0000  61.0000  0.8800]]\n",
      "2 0 0.2608695652173913\n",
      "[[ 5.5200 -7.7800  28.4000  9.0000  0.0000]\n",
      " [ 0.0000  9.8226 -5.9278  0.5870 -2.1500]\n",
      " [ 0.0000  1.6696 -1.8887 -2.3478  0.0400]\n",
      " [ 0.0000  0.0000  9.0000  61.0000  0.8800]]\n",
      "2 1 0.16997167138810199\n",
      "[[ 5.5200 -7.7800  28.4000  9.0000  0.0000]\n",
      " [ 0.0000  9.8226 -5.9278  0.5870 -2.1500]\n",
      " [ 0.0000  0.0000 -0.8811 -2.4476  0.4054]\n",
      " [ 0.0000  0.0000  9.0000  61.0000  0.8800]]\n",
      "3 2 -0.09790368271954678\n",
      "[[ 5.5200 -7.7800  28.4000  9.0000  0.0000]\n",
      " [ 0.0000  9.8226 -5.9278  0.5870 -2.1500]\n",
      " [ 0.0000  0.0000  9.0000  61.0000  0.8800]\n",
      " [ 0.0000  0.0000  0.0000  3.5245  0.4916]]\n"
     ]
    }
   ],
   "source": [
    "(U4,b4,x4) = GaussPivote(A,b)"
   ]
  },
  {
   "cell_type": "code",
   "execution_count": 23,
   "metadata": {},
   "outputs": [
    {
     "name": "stdout",
     "output_type": "stream",
     "text": [
      "El vector solución es = [ 3.0921 -0.7387 -0.8476  0.1395]\n"
     ]
    }
   ],
   "source": [
    "print ('El vector solución es =',x4)"
   ]
  },
  {
   "cell_type": "code",
   "execution_count": 24,
   "metadata": {},
   "outputs": [
    {
     "name": "stdout",
     "output_type": "stream",
     "text": [
      "La matriz U es \n",
      " [[ 5.5200 -7.7800  28.4000  9.0000]\n",
      " [ 0.0000  9.8226 -5.9278  0.5870]\n",
      " [ 0.0000  0.0000  9.0000  61.0000]\n",
      " [ 0.0000  0.0000  0.0000  3.5245]]\n"
     ]
    }
   ],
   "source": [
    "print ('La matriz U es \\n',U4)"
   ]
  },
  {
   "cell_type": "code",
   "execution_count": 25,
   "metadata": {},
   "outputs": [
    {
     "name": "stdout",
     "output_type": "stream",
     "text": [
      "[ 0.0000  0.0000  0.0000 -0.0000]\n"
     ]
    }
   ],
   "source": [
    "# Verifiquemos la solución\n",
    "print (np.dot(A,x4)-b)"
   ]
  },
  {
   "cell_type": "code",
   "execution_count": 26,
   "metadata": {},
   "outputs": [
    {
     "name": "stdout",
     "output_type": "stream",
     "text": [
      "El vector solución es = [ 3.0921 -0.7387 -0.8476  0.1395]\n"
     ]
    }
   ],
   "source": [
    "print ('El vector solución es =',linalg.solve(A,b))"
   ]
  },
  {
   "cell_type": "code",
   "execution_count": null,
   "metadata": {},
   "outputs": [],
   "source": []
  },
  {
   "cell_type": "code",
   "execution_count": null,
   "metadata": {},
   "outputs": [],
   "source": []
  }
 ],
 "metadata": {
  "kernelspec": {
   "display_name": "Python 3",
   "language": "python",
   "name": "python3"
  },
  "language_info": {
   "codemirror_mode": {
    "name": "ipython",
    "version": 3
   },
   "file_extension": ".py",
   "mimetype": "text/x-python",
   "name": "python",
   "nbconvert_exporter": "python",
   "pygments_lexer": "ipython3",
   "version": "3.7.1"
  }
 },
 "nbformat": 4,
 "nbformat_minor": 2
}
