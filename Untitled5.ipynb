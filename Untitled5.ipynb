{
 "cells": [
  {
   "cell_type": "markdown",
   "metadata": {},
   "source": [
    "Segun el método de Verlet, tenemos que:\n",
    "$$y(t+\\Delta t)=y(t)+v(y)+a(t)\\frac{(\\Delta t)^{2}}{2}$$\n",
    "\n",
    "y la ecuacion de velocidad:\n",
    "$$v(t+\\Delta t)=v(t)+\\frac{1}{2}[a(t)+a(t+\\Delta t)]*{\\Delta t}^{2}$$\n",
    "\n",
    "Usamos estas ecuaciones en la implemetación."
   ]
  },
  {
   "cell_type": "code",
   "execution_count": 1,
   "metadata": {},
   "outputs": [],
   "source": [
    "def VerletVelocidad(x0,y0,v0,n,tmax):\n",
    "    \n",
    "    y=np.zeros(n)\n",
    "    x=np.linspace(1,2,n)\n",
    "    a=np.zeros(n)\n",
    "    v=np.zeros(n)\n",
    "    delta=0.005\n",
    "    t=np.linspace(0,tmax,n)\n",
    "    \n",
    "    y[0]=y0\n",
    "    v[0]=v0\n",
    "    a[0]=fuerza(y[0])\n",
    "    \n",
    "    for i in range(1,n-1):\n",
    "        y[i]=y[i-1]+v[i-1]*delta+a[i-1]*np.power(delta,2)/2\n",
    "        a[i]=fuerza(y[i])\n",
    "        v[i]=v[i-1]+(a[i-1]+a[i])*delta/2\n",
    "    \n",
    "    return (t,x,y,v,a)\n"
   ]
  }
 ],
 "metadata": {
  "kernelspec": {
   "display_name": "Python 3",
   "language": "python",
   "name": "python3"
  },
  "language_info": {
   "codemirror_mode": {
    "name": "ipython",
    "version": 3
   },
   "file_extension": ".py",
   "mimetype": "text/x-python",
   "name": "python",
   "nbconvert_exporter": "python",
   "pygments_lexer": "ipython3",
   "version": "3.7.1"
  }
 },
 "nbformat": 4,
 "nbformat_minor": 2
}
